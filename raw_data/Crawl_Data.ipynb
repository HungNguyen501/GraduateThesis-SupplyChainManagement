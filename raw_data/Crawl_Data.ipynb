{
 "cells": [
  {
   "cell_type": "code",
   "execution_count": 2,
   "metadata": {},
   "outputs": [],
   "source": [
    "import pandas as pd\n",
    "import numpy as np\n",
    "import requests\n",
    "import json"
   ]
  },
  {
   "cell_type": "code",
   "execution_count": 17,
   "metadata": {},
   "outputs": [
    {
     "data": {
      "text/html": [
       "<div>\n",
       "<style scoped>\n",
       "    .dataframe tbody tr th:only-of-type {\n",
       "        vertical-align: middle;\n",
       "    }\n",
       "\n",
       "    .dataframe tbody tr th {\n",
       "        vertical-align: top;\n",
       "    }\n",
       "\n",
       "    .dataframe thead th {\n",
       "        text-align: right;\n",
       "    }\n",
       "</style>\n",
       "<table border=\"1\" class=\"dataframe\">\n",
       "  <thead>\n",
       "    <tr style=\"text-align: right;\">\n",
       "      <th></th>\n",
       "      <th>id</th>\n",
       "      <th>tracking_number</th>\n",
       "      <th>update_time</th>\n",
       "      <th>lstm_status</th>\n",
       "      <th>bilstm_status</th>\n",
       "      <th>bert_status</th>\n",
       "      <th>tracking_available_date</th>\n",
       "      <th>tracking_online_date</th>\n",
       "      <th>in_us_date</th>\n",
       "      <th>delivered_guarantee_date</th>\n",
       "      <th>completed_date</th>\n",
       "      <th>return_to_sender_date</th>\n",
       "    </tr>\n",
       "  </thead>\n",
       "  <tbody>\n",
       "    <tr>\n",
       "      <th>245</th>\n",
       "      <td>YT2101921236000752</td>\n",
       "      <td>YT2101921236000752</td>\n",
       "      <td>2021-02-02 12:00:00</td>\n",
       "      <td>RETURN_TO_SENDER</td>\n",
       "      <td>IN_US</td>\n",
       "      <td>RETURN_TO_SENDER</td>\n",
       "      <td>NaN</td>\n",
       "      <td>NaN</td>\n",
       "      <td>NaN</td>\n",
       "      <td>NaN</td>\n",
       "      <td>NaN</td>\n",
       "      <td>NaN</td>\n",
       "    </tr>\n",
       "    <tr>\n",
       "      <th>246</th>\n",
       "      <td>YT2100221272059417</td>\n",
       "      <td>YT2100221272059417</td>\n",
       "      <td>2021-01-19 14:08:00</td>\n",
       "      <td>RETURN_TO_SENDER</td>\n",
       "      <td>RETURN_TO_SENDER</td>\n",
       "      <td>RETURN_TO_SENDER</td>\n",
       "      <td>NaN</td>\n",
       "      <td>NaN</td>\n",
       "      <td>NaN</td>\n",
       "      <td>NaN</td>\n",
       "      <td>NaN</td>\n",
       "      <td>NaN</td>\n",
       "    </tr>\n",
       "    <tr>\n",
       "      <th>247</th>\n",
       "      <td>YT2036421272131660</td>\n",
       "      <td>YT2036421272131660</td>\n",
       "      <td>2021-01-19 14:37:00</td>\n",
       "      <td>RETURN_TO_SENDER</td>\n",
       "      <td>RETURN_TO_SENDER</td>\n",
       "      <td>RETURN_TO_SENDER</td>\n",
       "      <td>NaN</td>\n",
       "      <td>NaN</td>\n",
       "      <td>NaN</td>\n",
       "      <td>NaN</td>\n",
       "      <td>NaN</td>\n",
       "      <td>NaN</td>\n",
       "    </tr>\n",
       "    <tr>\n",
       "      <th>248</th>\n",
       "      <td>YT2101321272036069</td>\n",
       "      <td>YT2101321272036069</td>\n",
       "      <td>2021-02-24 05:13:57.161905</td>\n",
       "      <td>RETURN_TO_SENDER</td>\n",
       "      <td>NaN</td>\n",
       "      <td>RETURN_TO_SENDER</td>\n",
       "      <td>NaN</td>\n",
       "      <td>NaN</td>\n",
       "      <td>NaN</td>\n",
       "      <td>NaN</td>\n",
       "      <td>NaN</td>\n",
       "      <td>NaN</td>\n",
       "    </tr>\n",
       "    <tr>\n",
       "      <th>249</th>\n",
       "      <td>YT2101621236003420</td>\n",
       "      <td>YT2101621236003420</td>\n",
       "      <td>2021-02-03 06:10:00</td>\n",
       "      <td>RETURN_TO_SENDER</td>\n",
       "      <td>RETURN_TO_SENDER</td>\n",
       "      <td>RETURN_TO_SENDER</td>\n",
       "      <td>NaN</td>\n",
       "      <td>NaN</td>\n",
       "      <td>NaN</td>\n",
       "      <td>NaN</td>\n",
       "      <td>NaN</td>\n",
       "      <td>NaN</td>\n",
       "    </tr>\n",
       "  </tbody>\n",
       "</table>\n",
       "</div>"
      ],
      "text/plain": [
       "                     id     tracking_number                 update_time  \\\n",
       "245  YT2101921236000752  YT2101921236000752         2021-02-02 12:00:00   \n",
       "246  YT2100221272059417  YT2100221272059417         2021-01-19 14:08:00   \n",
       "247  YT2036421272131660  YT2036421272131660         2021-01-19 14:37:00   \n",
       "248  YT2101321272036069  YT2101321272036069  2021-02-24 05:13:57.161905   \n",
       "249  YT2101621236003420  YT2101621236003420         2021-02-03 06:10:00   \n",
       "\n",
       "          lstm_status     bilstm_status       bert_status  \\\n",
       "245  RETURN_TO_SENDER             IN_US  RETURN_TO_SENDER   \n",
       "246  RETURN_TO_SENDER  RETURN_TO_SENDER  RETURN_TO_SENDER   \n",
       "247  RETURN_TO_SENDER  RETURN_TO_SENDER  RETURN_TO_SENDER   \n",
       "248  RETURN_TO_SENDER               NaN  RETURN_TO_SENDER   \n",
       "249  RETURN_TO_SENDER  RETURN_TO_SENDER  RETURN_TO_SENDER   \n",
       "\n",
       "     tracking_available_date  tracking_online_date  in_us_date  \\\n",
       "245                      NaN                   NaN         NaN   \n",
       "246                      NaN                   NaN         NaN   \n",
       "247                      NaN                   NaN         NaN   \n",
       "248                      NaN                   NaN         NaN   \n",
       "249                      NaN                   NaN         NaN   \n",
       "\n",
       "     delivered_guarantee_date  completed_date  return_to_sender_date  \n",
       "245                       NaN             NaN                    NaN  \n",
       "246                       NaN             NaN                    NaN  \n",
       "247                       NaN             NaN                    NaN  \n",
       "248                       NaN             NaN                    NaN  \n",
       "249                       NaN             NaN                    NaN  "
      ]
     },
     "execution_count": 17,
     "metadata": {},
     "output_type": "execute_result"
    }
   ],
   "source": [
    "file_list = [\"TRACKING_AVAILABLE.xlsx\", \"TRACKING_ONLINE.xlsx\", \"IN_US.xlsx\", \"COMPLETED.xlsx\", \"RETURN_TO_SENDER.xlsx\" ]\n",
    "li = []\n",
    "for file in file_list:\n",
    "    df = pd.read_excel(file)\n",
    "    li.append(df)\n",
    "\n",
    "df = pd.concat(li, axis=0, ignore_index=True)\n",
    "df.tail()"
   ]
  },
  {
   "cell_type": "code",
   "execution_count": 18,
   "metadata": {},
   "outputs": [
    {
     "data": {
      "text/html": [
       "<div>\n",
       "<style scoped>\n",
       "    .dataframe tbody tr th:only-of-type {\n",
       "        vertical-align: middle;\n",
       "    }\n",
       "\n",
       "    .dataframe tbody tr th {\n",
       "        vertical-align: top;\n",
       "    }\n",
       "\n",
       "    .dataframe thead th {\n",
       "        text-align: right;\n",
       "    }\n",
       "</style>\n",
       "<table border=\"1\" class=\"dataframe\">\n",
       "  <thead>\n",
       "    <tr style=\"text-align: right;\">\n",
       "      <th></th>\n",
       "      <th>id</th>\n",
       "      <th>tracking_number</th>\n",
       "      <th>update_time</th>\n",
       "      <th>lstm_status</th>\n",
       "      <th>bilstm_status</th>\n",
       "      <th>bert_status</th>\n",
       "    </tr>\n",
       "  </thead>\n",
       "  <tbody>\n",
       "    <tr>\n",
       "      <th>245</th>\n",
       "      <td>YT2101921236000752</td>\n",
       "      <td>YT2101921236000752</td>\n",
       "      <td>2021-02-02 12:00:00</td>\n",
       "      <td>RETURN_TO_SENDER</td>\n",
       "      <td>IN_US</td>\n",
       "      <td>RETURN_TO_SENDER</td>\n",
       "    </tr>\n",
       "    <tr>\n",
       "      <th>246</th>\n",
       "      <td>YT2100221272059417</td>\n",
       "      <td>YT2100221272059417</td>\n",
       "      <td>2021-01-19 14:08:00</td>\n",
       "      <td>RETURN_TO_SENDER</td>\n",
       "      <td>RETURN_TO_SENDER</td>\n",
       "      <td>RETURN_TO_SENDER</td>\n",
       "    </tr>\n",
       "    <tr>\n",
       "      <th>247</th>\n",
       "      <td>YT2036421272131660</td>\n",
       "      <td>YT2036421272131660</td>\n",
       "      <td>2021-01-19 14:37:00</td>\n",
       "      <td>RETURN_TO_SENDER</td>\n",
       "      <td>RETURN_TO_SENDER</td>\n",
       "      <td>RETURN_TO_SENDER</td>\n",
       "    </tr>\n",
       "    <tr>\n",
       "      <th>248</th>\n",
       "      <td>YT2101321272036069</td>\n",
       "      <td>YT2101321272036069</td>\n",
       "      <td>2021-02-24 05:13:57.161905</td>\n",
       "      <td>RETURN_TO_SENDER</td>\n",
       "      <td>NaN</td>\n",
       "      <td>RETURN_TO_SENDER</td>\n",
       "    </tr>\n",
       "    <tr>\n",
       "      <th>249</th>\n",
       "      <td>YT2101621236003420</td>\n",
       "      <td>YT2101621236003420</td>\n",
       "      <td>2021-02-03 06:10:00</td>\n",
       "      <td>RETURN_TO_SENDER</td>\n",
       "      <td>RETURN_TO_SENDER</td>\n",
       "      <td>RETURN_TO_SENDER</td>\n",
       "    </tr>\n",
       "  </tbody>\n",
       "</table>\n",
       "</div>"
      ],
      "text/plain": [
       "                     id     tracking_number                 update_time  \\\n",
       "245  YT2101921236000752  YT2101921236000752         2021-02-02 12:00:00   \n",
       "246  YT2100221272059417  YT2100221272059417         2021-01-19 14:08:00   \n",
       "247  YT2036421272131660  YT2036421272131660         2021-01-19 14:37:00   \n",
       "248  YT2101321272036069  YT2101321272036069  2021-02-24 05:13:57.161905   \n",
       "249  YT2101621236003420  YT2101621236003420         2021-02-03 06:10:00   \n",
       "\n",
       "          lstm_status     bilstm_status       bert_status  \n",
       "245  RETURN_TO_SENDER             IN_US  RETURN_TO_SENDER  \n",
       "246  RETURN_TO_SENDER  RETURN_TO_SENDER  RETURN_TO_SENDER  \n",
       "247  RETURN_TO_SENDER  RETURN_TO_SENDER  RETURN_TO_SENDER  \n",
       "248  RETURN_TO_SENDER               NaN  RETURN_TO_SENDER  \n",
       "249  RETURN_TO_SENDER  RETURN_TO_SENDER  RETURN_TO_SENDER  "
      ]
     },
     "execution_count": 18,
     "metadata": {},
     "output_type": "execute_result"
    }
   ],
   "source": [
    "df = df.drop(['tracking_available_date', 'tracking_online_date', 'in_us_date', 'delivered_guarantee_date', 'completed_date', 'return_to_sender_date'], axis=1)\n",
    "df.tail()"
   ]
  },
  {
   "cell_type": "code",
   "execution_count": 19,
   "metadata": {},
   "outputs": [
    {
     "data": {
      "text/plain": [
       "250"
      ]
     },
     "execution_count": 19,
     "metadata": {},
     "output_type": "execute_result"
    }
   ],
   "source": [
    "tracking_number_list = list(df['tracking_number'])\n",
    "len(tracking_number_list)"
   ]
  },
  {
   "cell_type": "code",
   "execution_count": 38,
   "metadata": {},
   "outputs": [],
   "source": [
    "tracking_number_list = [\n",
    "\"YT2012021272121165\"\n",
    "\n",
    "\n",
    "]"
   ]
  },
  {
   "cell_type": "markdown",
   "metadata": {},
   "source": [
    "# Crawl data via api 17track"
   ]
  },
  {
   "cell_type": "code",
   "execution_count": 39,
   "metadata": {},
   "outputs": [],
   "source": [
    "log_list = []"
   ]
  },
  {
   "cell_type": "code",
   "execution_count": 40,
   "metadata": {},
   "outputs": [],
   "source": [
    "count = 0\n",
    "for tracking_number in tracking_number_list:\n",
    "    \n",
    "    url = \"https://api.17track.net/track/v1/gettrackinfo\"\n",
    "\n",
    "    payload=\"[{ \\\"number\\\": \\\"\"+ tracking_number +\"\\\" }]\"\n",
    "\n",
    "    headers = {\n",
    "      '17token': 'A36466A02D9B25A8C99C58CD5AC22414',\n",
    "      'Content-Type': 'application/json'\n",
    "    }\n",
    "    \n",
    "    response = requests.post(url, headers=headers, data=payload)\n",
    "\n",
    "    if response.status_code == 200:\n",
    "        obj = response.json()\n",
    "        if obj['data']['accepted']:\n",
    "            \n",
    "            if obj['data']['accepted'][0]['track']['z1']:\n",
    "                get_logs = obj['data']['accepted'][0]['track']['z1'][::-1]  \n",
    "            elif obj['data']['accepted'][0]['track']['z2']:\n",
    "                get_logs = obj['data']['accepted'][0]['track']['z2'][::-1]\n",
    "                \n",
    "            log_collection = ''\n",
    "\n",
    "            for log in get_logs:\n",
    "                log_collection += ( log['c'] + ' ' + log['d'] + ' ' + log['z'] + ' . ' )\n",
    "\n",
    "                info = {'tracking_number': tracking_number, 'checkpoint_status': '', 'status_description': log_collection}\n",
    "\n",
    "                log_list.append(info)"
   ]
  },
  {
   "cell_type": "code",
   "execution_count": 41,
   "metadata": {},
   "outputs": [
    {
     "data": {
      "text/html": [
       "<div>\n",
       "<style scoped>\n",
       "    .dataframe tbody tr th:only-of-type {\n",
       "        vertical-align: middle;\n",
       "    }\n",
       "\n",
       "    .dataframe tbody tr th {\n",
       "        vertical-align: top;\n",
       "    }\n",
       "\n",
       "    .dataframe thead th {\n",
       "        text-align: right;\n",
       "    }\n",
       "</style>\n",
       "<table border=\"1\" class=\"dataframe\">\n",
       "  <thead>\n",
       "    <tr style=\"text-align: right;\">\n",
       "      <th></th>\n",
       "    </tr>\n",
       "  </thead>\n",
       "  <tbody>\n",
       "  </tbody>\n",
       "</table>\n",
       "</div>"
      ],
      "text/plain": [
       "Empty DataFrame\n",
       "Columns: []\n",
       "Index: []"
      ]
     },
     "execution_count": 41,
     "metadata": {},
     "output_type": "execute_result"
    }
   ],
   "source": [
    "log_df = pd.DataFrame(log_list)\n",
    "log_df.tail()"
   ]
  },
  {
   "cell_type": "code",
   "execution_count": 24,
   "metadata": {},
   "outputs": [
    {
     "name": "stdout",
     "output_type": "stream",
     "text": [
      "number of tracking_number: 35\n",
      "number of logs: 912\n"
     ]
    }
   ],
   "source": [
    "print(\"number of tracking_number: {}\".format(len(set(list(log_df[\"tracking_number\"])))))\n",
    "print(\"number of logs: {}\".format(log_df.shape[0]))"
   ]
  },
  {
   "cell_type": "code",
   "execution_count": 25,
   "metadata": {},
   "outputs": [],
   "source": [
    "log_df.to_excel(\"rts.xlsx\", index=False)"
   ]
  },
  {
   "cell_type": "code",
   "execution_count": 14,
   "metadata": {},
   "outputs": [
    {
     "data": {
      "text/html": [
       "<div>\n",
       "<style scoped>\n",
       "    .dataframe tbody tr th:only-of-type {\n",
       "        vertical-align: middle;\n",
       "    }\n",
       "\n",
       "    .dataframe tbody tr th {\n",
       "        vertical-align: top;\n",
       "    }\n",
       "\n",
       "    .dataframe thead th {\n",
       "        text-align: right;\n",
       "    }\n",
       "</style>\n",
       "<table border=\"1\" class=\"dataframe\">\n",
       "  <thead>\n",
       "    <tr style=\"text-align: right;\">\n",
       "      <th></th>\n",
       "      <th>tracking_number</th>\n",
       "    </tr>\n",
       "  </thead>\n",
       "  <tbody>\n",
       "    <tr>\n",
       "      <th>30</th>\n",
       "      <td>YT2028721272024889</td>\n",
       "    </tr>\n",
       "    <tr>\n",
       "      <th>31</th>\n",
       "      <td>YT2028221272047603</td>\n",
       "    </tr>\n",
       "    <tr>\n",
       "      <th>32</th>\n",
       "      <td>YT2010821272127708</td>\n",
       "    </tr>\n",
       "    <tr>\n",
       "      <th>33</th>\n",
       "      <td>YT2007721272061526</td>\n",
       "    </tr>\n",
       "    <tr>\n",
       "      <th>34</th>\n",
       "      <td>YT2015321272076421</td>\n",
       "    </tr>\n",
       "  </tbody>\n",
       "</table>\n",
       "</div>"
      ],
      "text/plain": [
       "       tracking_number\n",
       "30  YT2028721272024889\n",
       "31  YT2028221272047603\n",
       "32  YT2010821272127708\n",
       "33  YT2007721272061526\n",
       "34  YT2015321272076421"
      ]
     },
     "execution_count": 14,
     "metadata": {},
     "output_type": "execute_result"
    }
   ],
   "source": [
    "tracking_number_df = pd.DataFrame(list(set(list(log_df[\"tracking_number\"]))))\n",
    "labels=[\"tracking_number\"]\n",
    "tracking_number_df.columns = labels\n",
    "tracking_number_df.tail()"
   ]
  },
  {
   "cell_type": "code",
   "execution_count": 25,
   "metadata": {},
   "outputs": [
    {
     "data": {
      "text/html": [
       "<div>\n",
       "<style scoped>\n",
       "    .dataframe tbody tr th:only-of-type {\n",
       "        vertical-align: middle;\n",
       "    }\n",
       "\n",
       "    .dataframe tbody tr th {\n",
       "        vertical-align: top;\n",
       "    }\n",
       "\n",
       "    .dataframe thead th {\n",
       "        text-align: right;\n",
       "    }\n",
       "</style>\n",
       "<table border=\"1\" class=\"dataframe\">\n",
       "  <thead>\n",
       "    <tr style=\"text-align: right;\">\n",
       "      <th></th>\n",
       "      <th>id</th>\n",
       "      <th>tracking_number</th>\n",
       "      <th>update_time</th>\n",
       "      <th>lstm_status</th>\n",
       "      <th>bilstm_status</th>\n",
       "      <th>bert_status</th>\n",
       "    </tr>\n",
       "  </thead>\n",
       "  <tbody>\n",
       "    <tr>\n",
       "      <th>92</th>\n",
       "      <td>YT2101821272049309</td>\n",
       "      <td>YT2101821272049309</td>\n",
       "      <td>2021-02-03 10:56:00</td>\n",
       "      <td>RETURN_TO_SENDER</td>\n",
       "      <td>RETURN_TO_SENDER</td>\n",
       "      <td>RETURN_TO_SENDER</td>\n",
       "    </tr>\n",
       "    <tr>\n",
       "      <th>93</th>\n",
       "      <td>YT2101921236000561</td>\n",
       "      <td>YT2101921236000561</td>\n",
       "      <td>2021-02-03 08:58:00</td>\n",
       "      <td>RETURN_TO_SENDER</td>\n",
       "      <td>COMPLETED</td>\n",
       "      <td>RETURN_TO_SENDER</td>\n",
       "    </tr>\n",
       "    <tr>\n",
       "      <th>94</th>\n",
       "      <td>YT2101621236003689</td>\n",
       "      <td>YT2101621236003689</td>\n",
       "      <td>2021-02-03 12:05:00</td>\n",
       "      <td>RETURN_TO_SENDER</td>\n",
       "      <td>COMPLETED</td>\n",
       "      <td>COMPLETED</td>\n",
       "    </tr>\n",
       "    <tr>\n",
       "      <th>95</th>\n",
       "      <td>YT2101621236003569</td>\n",
       "      <td>YT2101621236003569</td>\n",
       "      <td>2021-02-05 15:25:00</td>\n",
       "      <td>RETURN_TO_SENDER</td>\n",
       "      <td>COMPLETED</td>\n",
       "      <td>RETURN_TO_SENDER</td>\n",
       "    </tr>\n",
       "    <tr>\n",
       "      <th>96</th>\n",
       "      <td>YT2036421272131660</td>\n",
       "      <td>YT2036421272131660</td>\n",
       "      <td>2021-01-19 14:37:00</td>\n",
       "      <td>RETURN_TO_SENDER</td>\n",
       "      <td>RETURN_TO_SENDER</td>\n",
       "      <td>RETURN_TO_SENDER</td>\n",
       "    </tr>\n",
       "  </tbody>\n",
       "</table>\n",
       "</div>"
      ],
      "text/plain": [
       "                    id     tracking_number          update_time  \\\n",
       "92  YT2101821272049309  YT2101821272049309  2021-02-03 10:56:00   \n",
       "93  YT2101921236000561  YT2101921236000561  2021-02-03 08:58:00   \n",
       "94  YT2101621236003689  YT2101621236003689  2021-02-03 12:05:00   \n",
       "95  YT2101621236003569  YT2101621236003569  2021-02-05 15:25:00   \n",
       "96  YT2036421272131660  YT2036421272131660  2021-01-19 14:37:00   \n",
       "\n",
       "         lstm_status     bilstm_status       bert_status  \n",
       "92  RETURN_TO_SENDER  RETURN_TO_SENDER  RETURN_TO_SENDER  \n",
       "93  RETURN_TO_SENDER         COMPLETED  RETURN_TO_SENDER  \n",
       "94  RETURN_TO_SENDER         COMPLETED         COMPLETED  \n",
       "95  RETURN_TO_SENDER         COMPLETED  RETURN_TO_SENDER  \n",
       "96  RETURN_TO_SENDER  RETURN_TO_SENDER  RETURN_TO_SENDER  "
      ]
     },
     "execution_count": 25,
     "metadata": {},
     "output_type": "execute_result"
    }
   ],
   "source": [
    "crawl_df = pd.merge(df, tracking_number_df, on=\"tracking_number\")\n",
    "crawl_df.tail()"
   ]
  },
  {
   "cell_type": "code",
   "execution_count": 26,
   "metadata": {},
   "outputs": [
    {
     "data": {
      "text/html": [
       "<div>\n",
       "<style scoped>\n",
       "    .dataframe tbody tr th:only-of-type {\n",
       "        vertical-align: middle;\n",
       "    }\n",
       "\n",
       "    .dataframe tbody tr th {\n",
       "        vertical-align: top;\n",
       "    }\n",
       "\n",
       "    .dataframe thead th {\n",
       "        text-align: right;\n",
       "    }\n",
       "</style>\n",
       "<table border=\"1\" class=\"dataframe\">\n",
       "  <thead>\n",
       "    <tr style=\"text-align: right;\">\n",
       "      <th></th>\n",
       "      <th>id</th>\n",
       "      <th>tracking_number</th>\n",
       "      <th>update_time</th>\n",
       "      <th>bilstm_status</th>\n",
       "      <th>bert_status</th>\n",
       "    </tr>\n",
       "    <tr>\n",
       "      <th>lstm_status</th>\n",
       "      <th></th>\n",
       "      <th></th>\n",
       "      <th></th>\n",
       "      <th></th>\n",
       "      <th></th>\n",
       "    </tr>\n",
       "  </thead>\n",
       "  <tbody>\n",
       "    <tr>\n",
       "      <th>COMPLETED</th>\n",
       "      <td>14</td>\n",
       "      <td>14</td>\n",
       "      <td>14</td>\n",
       "      <td>12</td>\n",
       "      <td>14</td>\n",
       "    </tr>\n",
       "    <tr>\n",
       "      <th>IN_US</th>\n",
       "      <td>17</td>\n",
       "      <td>17</td>\n",
       "      <td>17</td>\n",
       "      <td>11</td>\n",
       "      <td>17</td>\n",
       "    </tr>\n",
       "    <tr>\n",
       "      <th>RETURN_TO_SENDER</th>\n",
       "      <td>15</td>\n",
       "      <td>15</td>\n",
       "      <td>15</td>\n",
       "      <td>13</td>\n",
       "      <td>15</td>\n",
       "    </tr>\n",
       "    <tr>\n",
       "      <th>TRACKING_AVAILABLE</th>\n",
       "      <td>32</td>\n",
       "      <td>32</td>\n",
       "      <td>32</td>\n",
       "      <td>0</td>\n",
       "      <td>32</td>\n",
       "    </tr>\n",
       "    <tr>\n",
       "      <th>TRACKING_ONLINE</th>\n",
       "      <td>19</td>\n",
       "      <td>19</td>\n",
       "      <td>19</td>\n",
       "      <td>0</td>\n",
       "      <td>19</td>\n",
       "    </tr>\n",
       "  </tbody>\n",
       "</table>\n",
       "</div>"
      ],
      "text/plain": [
       "                    id  tracking_number  update_time  bilstm_status  \\\n",
       "lstm_status                                                           \n",
       "COMPLETED           14               14           14             12   \n",
       "IN_US               17               17           17             11   \n",
       "RETURN_TO_SENDER    15               15           15             13   \n",
       "TRACKING_AVAILABLE  32               32           32              0   \n",
       "TRACKING_ONLINE     19               19           19              0   \n",
       "\n",
       "                    bert_status  \n",
       "lstm_status                      \n",
       "COMPLETED                    14  \n",
       "IN_US                        17  \n",
       "RETURN_TO_SENDER             15  \n",
       "TRACKING_AVAILABLE           32  \n",
       "TRACKING_ONLINE              19  "
      ]
     },
     "execution_count": 26,
     "metadata": {},
     "output_type": "execute_result"
    }
   ],
   "source": [
    "crawl_df.groupby(\"lstm_status\").count()"
   ]
  },
  {
   "cell_type": "code",
   "execution_count": null,
   "metadata": {},
   "outputs": [],
   "source": []
  },
  {
   "cell_type": "code",
   "execution_count": null,
   "metadata": {},
   "outputs": [],
   "source": []
  },
  {
   "cell_type": "code",
   "execution_count": 15,
   "metadata": {},
   "outputs": [],
   "source": [
    "log_df.to_excel(\"test_data1.xlsx\", index=False)"
   ]
  },
  {
   "cell_type": "code",
   "execution_count": null,
   "metadata": {},
   "outputs": [],
   "source": []
  },
  {
   "cell_type": "code",
   "execution_count": 44,
   "metadata": {},
   "outputs": [
    {
     "name": "stderr",
     "output_type": "stream",
     "text": [
      "c:\\users\\admin\\appdata\\local\\programs\\python\\python37\\lib\\site-packages\\IPython\\core\\interactiveshell.py:3063: DtypeWarning: Columns (6) have mixed types.Specify dtype option on import or set low_memory=False.\n",
      "  interactivity=interactivity, compiler=compiler, result=result)\n"
     ]
    },
    {
     "data": {
      "text/html": [
       "<div>\n",
       "<style scoped>\n",
       "    .dataframe tbody tr th:only-of-type {\n",
       "        vertical-align: middle;\n",
       "    }\n",
       "\n",
       "    .dataframe tbody tr th {\n",
       "        vertical-align: top;\n",
       "    }\n",
       "\n",
       "    .dataframe thead th {\n",
       "        text-align: right;\n",
       "    }\n",
       "</style>\n",
       "<table border=\"1\" class=\"dataframe\">\n",
       "  <thead>\n",
       "    <tr style=\"text-align: right;\">\n",
       "      <th></th>\n",
       "      <th>id</th>\n",
       "      <th>tracking_number</th>\n",
       "      <th>update_time</th>\n",
       "      <th>last_log_time</th>\n",
       "      <th>missing_order</th>\n",
       "      <th>lstm_status</th>\n",
       "      <th>bilstm_status</th>\n",
       "      <th>bert_status</th>\n",
       "    </tr>\n",
       "  </thead>\n",
       "  <tbody>\n",
       "    <tr>\n",
       "      <th>74908</th>\n",
       "      <td>YT2107221236001439</td>\n",
       "      <td>YT2107221236001439</td>\n",
       "      <td>3/1/2021 18:24:16.570299</td>\n",
       "      <td>3/1/2021 18:24:16.570299</td>\n",
       "      <td>0</td>\n",
       "      <td>IN_US</td>\n",
       "      <td>NaN</td>\n",
       "      <td>IN_US</td>\n",
       "    </tr>\n",
       "    <tr>\n",
       "      <th>74909</th>\n",
       "      <td>YT2107521272078595</td>\n",
       "      <td>YT2107521272078595</td>\n",
       "      <td>3/1/2021 18:24:17.647138</td>\n",
       "      <td>3/1/2021 18:24:17.647138</td>\n",
       "      <td>0</td>\n",
       "      <td>TRACKING_ONLINE</td>\n",
       "      <td>NaN</td>\n",
       "      <td>TRACKING_ONLINE</td>\n",
       "    </tr>\n",
       "    <tr>\n",
       "      <th>74910</th>\n",
       "      <td>YT2107521272076718</td>\n",
       "      <td>YT2107521272076718</td>\n",
       "      <td>3/1/2021 18:24:08.826822</td>\n",
       "      <td>3/1/2021 18:24:08.826822</td>\n",
       "      <td>0</td>\n",
       "      <td>TRACKING_ONLINE</td>\n",
       "      <td>NaN</td>\n",
       "      <td>TRACKING_ONLINE</td>\n",
       "    </tr>\n",
       "    <tr>\n",
       "      <th>74911</th>\n",
       "      <td>YT2107521272080559</td>\n",
       "      <td>YT2107521272080559</td>\n",
       "      <td>3/1/2021 18:26:00.012744</td>\n",
       "      <td>3/1/2021 18:26:00.012744</td>\n",
       "      <td>0</td>\n",
       "      <td>TRACKING_ONLINE</td>\n",
       "      <td>NaN</td>\n",
       "      <td>TRACKING_ONLINE</td>\n",
       "    </tr>\n",
       "    <tr>\n",
       "      <th>74912</th>\n",
       "      <td>YT2106521236002562</td>\n",
       "      <td>YT2106521236002562</td>\n",
       "      <td>30/3/2021 21:22:18.907399</td>\n",
       "      <td>19/3/2021 17:02:00</td>\n",
       "      <td>0</td>\n",
       "      <td>COMPLETED</td>\n",
       "      <td>NaN</td>\n",
       "      <td>COMPLETED</td>\n",
       "    </tr>\n",
       "  </tbody>\n",
       "</table>\n",
       "</div>"
      ],
      "text/plain": [
       "                       id     tracking_number                update_time  \\\n",
       "74908  YT2107221236001439  YT2107221236001439   3/1/2021 18:24:16.570299   \n",
       "74909  YT2107521272078595  YT2107521272078595   3/1/2021 18:24:17.647138   \n",
       "74910  YT2107521272076718  YT2107521272076718   3/1/2021 18:24:08.826822   \n",
       "74911  YT2107521272080559  YT2107521272080559   3/1/2021 18:26:00.012744   \n",
       "74912  YT2106521236002562  YT2106521236002562  30/3/2021 21:22:18.907399   \n",
       "\n",
       "                  last_log_time  missing_order      lstm_status bilstm_status  \\\n",
       "74908  3/1/2021 18:24:16.570299              0            IN_US           NaN   \n",
       "74909  3/1/2021 18:24:17.647138              0  TRACKING_ONLINE           NaN   \n",
       "74910  3/1/2021 18:24:08.826822              0  TRACKING_ONLINE           NaN   \n",
       "74911  3/1/2021 18:26:00.012744              0  TRACKING_ONLINE           NaN   \n",
       "74912        19/3/2021 17:02:00              0        COMPLETED           NaN   \n",
       "\n",
       "           bert_status  \n",
       "74908            IN_US  \n",
       "74909  TRACKING_ONLINE  \n",
       "74910  TRACKING_ONLINE  \n",
       "74911  TRACKING_ONLINE  \n",
       "74912        COMPLETED  "
      ]
     },
     "execution_count": 44,
     "metadata": {},
     "output_type": "execute_result"
    }
   ],
   "source": [
    "data = pd.read_csv(\"data_scm_tracking_ml.csv\")\n",
    "data.tail()"
   ]
  },
  {
   "cell_type": "code",
   "execution_count": 45,
   "metadata": {},
   "outputs": [
    {
     "data": {
      "text/plain": [
       "(74913, 8)"
      ]
     },
     "execution_count": 45,
     "metadata": {},
     "output_type": "execute_result"
    }
   ],
   "source": [
    "data.shape"
   ]
  },
  {
   "cell_type": "code",
   "execution_count": 46,
   "metadata": {},
   "outputs": [
    {
     "data": {
      "text/plain": [
       "id                 object\n",
       "tracking_number    object\n",
       "update_time        object\n",
       "last_log_time      object\n",
       "missing_order       int64\n",
       "lstm_status        object\n",
       "bilstm_status      object\n",
       "bert_status        object\n",
       "dtype: object"
      ]
     },
     "execution_count": 46,
     "metadata": {},
     "output_type": "execute_result"
    }
   ],
   "source": [
    "data.dtypes"
   ]
  },
  {
   "cell_type": "code",
   "execution_count": 47,
   "metadata": {},
   "outputs": [
    {
     "data": {
      "text/plain": [
       "1"
      ]
     },
     "execution_count": 47,
     "metadata": {},
     "output_type": "execute_result"
    }
   ],
   "source": [
    "import random\n",
    "random.randint(0, 1)"
   ]
  },
  {
   "cell_type": "code",
   "execution_count": 54,
   "metadata": {},
   "outputs": [
    {
     "data": {
      "text/plain": [
       "1"
      ]
     },
     "execution_count": 54,
     "metadata": {},
     "output_type": "execute_result"
    }
   ],
   "source": [
    "def my_rand(a):\n",
    "    return random.randint(0, 1)\n",
    "\n",
    "my_rand(0)"
   ]
  },
  {
   "cell_type": "code",
   "execution_count": null,
   "metadata": {},
   "outputs": [],
   "source": []
  },
  {
   "cell_type": "code",
   "execution_count": 55,
   "metadata": {},
   "outputs": [],
   "source": [
    "data[\"missing_order\"] = data[\"missing_order\"].apply(my_rand)"
   ]
  },
  {
   "cell_type": "code",
   "execution_count": 56,
   "metadata": {},
   "outputs": [
    {
     "data": {
      "text/html": [
       "<div>\n",
       "<style scoped>\n",
       "    .dataframe tbody tr th:only-of-type {\n",
       "        vertical-align: middle;\n",
       "    }\n",
       "\n",
       "    .dataframe tbody tr th {\n",
       "        vertical-align: top;\n",
       "    }\n",
       "\n",
       "    .dataframe thead th {\n",
       "        text-align: right;\n",
       "    }\n",
       "</style>\n",
       "<table border=\"1\" class=\"dataframe\">\n",
       "  <thead>\n",
       "    <tr style=\"text-align: right;\">\n",
       "      <th></th>\n",
       "      <th>id</th>\n",
       "      <th>tracking_number</th>\n",
       "      <th>update_time</th>\n",
       "      <th>last_log_time</th>\n",
       "      <th>missing_order</th>\n",
       "      <th>lstm_status</th>\n",
       "      <th>bilstm_status</th>\n",
       "      <th>bert_status</th>\n",
       "    </tr>\n",
       "  </thead>\n",
       "  <tbody>\n",
       "    <tr>\n",
       "      <th>0</th>\n",
       "      <td>YT2100921272131268</td>\n",
       "      <td>YT2100921272131268</td>\n",
       "      <td>29/1/2021 14:14:00</td>\n",
       "      <td>29/1/2021 14:14:00</td>\n",
       "      <td>0</td>\n",
       "      <td>COMPLETED</td>\n",
       "      <td>COMPLETED</td>\n",
       "      <td>RETURN_TO_SENDER</td>\n",
       "    </tr>\n",
       "    <tr>\n",
       "      <th>1</th>\n",
       "      <td>YT2101621236004007</td>\n",
       "      <td>YT2101621236004007</td>\n",
       "      <td>30/1/2021 13:54:00</td>\n",
       "      <td>30/1/2021 13:54:00</td>\n",
       "      <td>0</td>\n",
       "      <td>COMPLETED</td>\n",
       "      <td>COMPLETED</td>\n",
       "      <td>COMPLETED</td>\n",
       "    </tr>\n",
       "    <tr>\n",
       "      <th>2</th>\n",
       "      <td>YT2103221272032772</td>\n",
       "      <td>YT2103221272032772</td>\n",
       "      <td>2/1/2021 21:26:01.553249</td>\n",
       "      <td>2/1/2021 21:26:01.553249</td>\n",
       "      <td>0</td>\n",
       "      <td>COMPLETED</td>\n",
       "      <td>NaN</td>\n",
       "      <td>COMPLETED</td>\n",
       "    </tr>\n",
       "    <tr>\n",
       "      <th>3</th>\n",
       "      <td>YT2101921236003761</td>\n",
       "      <td>YT2101921236003761</td>\n",
       "      <td>2/2/2021 16:02:00</td>\n",
       "      <td>2/2/2021 16:02:00</td>\n",
       "      <td>1</td>\n",
       "      <td>COMPLETED</td>\n",
       "      <td>COMPLETED</td>\n",
       "      <td>RETURN_TO_SENDER</td>\n",
       "    </tr>\n",
       "    <tr>\n",
       "      <th>4</th>\n",
       "      <td>YT2101221236003755</td>\n",
       "      <td>YT2101221236003755</td>\n",
       "      <td>3/2/2021 09:59:00</td>\n",
       "      <td>3/2/2021 09:59:00</td>\n",
       "      <td>0</td>\n",
       "      <td>COMPLETED</td>\n",
       "      <td>COMPLETED</td>\n",
       "      <td>COMPLETED</td>\n",
       "    </tr>\n",
       "  </tbody>\n",
       "</table>\n",
       "</div>"
      ],
      "text/plain": [
       "                   id     tracking_number               update_time  \\\n",
       "0  YT2100921272131268  YT2100921272131268        29/1/2021 14:14:00   \n",
       "1  YT2101621236004007  YT2101621236004007        30/1/2021 13:54:00   \n",
       "2  YT2103221272032772  YT2103221272032772  2/1/2021 21:26:01.553249   \n",
       "3  YT2101921236003761  YT2101921236003761         2/2/2021 16:02:00   \n",
       "4  YT2101221236003755  YT2101221236003755         3/2/2021 09:59:00   \n",
       "\n",
       "              last_log_time  missing_order lstm_status bilstm_status  \\\n",
       "0        29/1/2021 14:14:00              0   COMPLETED     COMPLETED   \n",
       "1        30/1/2021 13:54:00              0   COMPLETED     COMPLETED   \n",
       "2  2/1/2021 21:26:01.553249              0   COMPLETED           NaN   \n",
       "3         2/2/2021 16:02:00              1   COMPLETED     COMPLETED   \n",
       "4         3/2/2021 09:59:00              0   COMPLETED     COMPLETED   \n",
       "\n",
       "        bert_status  \n",
       "0  RETURN_TO_SENDER  \n",
       "1         COMPLETED  \n",
       "2         COMPLETED  \n",
       "3  RETURN_TO_SENDER  \n",
       "4         COMPLETED  "
      ]
     },
     "execution_count": 56,
     "metadata": {},
     "output_type": "execute_result"
    }
   ],
   "source": [
    "data.head()"
   ]
  },
  {
   "cell_type": "code",
   "execution_count": 57,
   "metadata": {},
   "outputs": [
    {
     "data": {
      "text/html": [
       "<div>\n",
       "<style scoped>\n",
       "    .dataframe tbody tr th:only-of-type {\n",
       "        vertical-align: middle;\n",
       "    }\n",
       "\n",
       "    .dataframe tbody tr th {\n",
       "        vertical-align: top;\n",
       "    }\n",
       "\n",
       "    .dataframe thead th {\n",
       "        text-align: right;\n",
       "    }\n",
       "</style>\n",
       "<table border=\"1\" class=\"dataframe\">\n",
       "  <thead>\n",
       "    <tr style=\"text-align: right;\">\n",
       "      <th></th>\n",
       "      <th>id</th>\n",
       "      <th>tracking_number</th>\n",
       "      <th>update_time</th>\n",
       "      <th>last_log_time</th>\n",
       "      <th>lstm_status</th>\n",
       "      <th>bilstm_status</th>\n",
       "      <th>bert_status</th>\n",
       "    </tr>\n",
       "    <tr>\n",
       "      <th>missing_order</th>\n",
       "      <th></th>\n",
       "      <th></th>\n",
       "      <th></th>\n",
       "      <th></th>\n",
       "      <th></th>\n",
       "      <th></th>\n",
       "      <th></th>\n",
       "    </tr>\n",
       "  </thead>\n",
       "  <tbody>\n",
       "    <tr>\n",
       "      <th>0</th>\n",
       "      <td>37466</td>\n",
       "      <td>37466</td>\n",
       "      <td>37466</td>\n",
       "      <td>37466</td>\n",
       "      <td>37466</td>\n",
       "      <td>3313</td>\n",
       "      <td>37466</td>\n",
       "    </tr>\n",
       "    <tr>\n",
       "      <th>1</th>\n",
       "      <td>37447</td>\n",
       "      <td>37447</td>\n",
       "      <td>37447</td>\n",
       "      <td>37447</td>\n",
       "      <td>37447</td>\n",
       "      <td>3171</td>\n",
       "      <td>37447</td>\n",
       "    </tr>\n",
       "  </tbody>\n",
       "</table>\n",
       "</div>"
      ],
      "text/plain": [
       "                  id  tracking_number  update_time  last_log_time  \\\n",
       "missing_order                                                       \n",
       "0              37466            37466        37466          37466   \n",
       "1              37447            37447        37447          37447   \n",
       "\n",
       "               lstm_status  bilstm_status  bert_status  \n",
       "missing_order                                           \n",
       "0                    37466           3313        37466  \n",
       "1                    37447           3171        37447  "
      ]
     },
     "execution_count": 57,
     "metadata": {},
     "output_type": "execute_result"
    }
   ],
   "source": [
    "data.groupby(\"missing_order\").count()"
   ]
  },
  {
   "cell_type": "code",
   "execution_count": null,
   "metadata": {},
   "outputs": [],
   "source": [
    "data.to_csv(\"\")"
   ]
  }
 ],
 "metadata": {
  "kernelspec": {
   "display_name": "Python 3",
   "language": "python",
   "name": "python3"
  },
  "language_info": {
   "codemirror_mode": {
    "name": "ipython",
    "version": 3
   },
   "file_extension": ".py",
   "mimetype": "text/x-python",
   "name": "python",
   "nbconvert_exporter": "python",
   "pygments_lexer": "ipython3",
   "version": "3.7.3"
  }
 },
 "nbformat": 4,
 "nbformat_minor": 4
}
