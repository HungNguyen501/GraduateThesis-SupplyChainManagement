{
 "cells": [
  {
   "cell_type": "code",
   "execution_count": 1,
   "metadata": {},
   "outputs": [],
   "source": [
    "import pandas as pd\n",
    "import numpy as np\n",
    "import random"
   ]
  },
  {
   "cell_type": "code",
   "execution_count": 2,
   "metadata": {},
   "outputs": [
    {
     "name": "stdout",
     "output_type": "stream",
     "text": [
      "<class 'pandas.core.frame.DataFrame'>\n",
      "RangeIndex: 9961 entries, 0 to 9960\n",
      "Data columns (total 4 columns):\n",
      " #   Column              Non-Null Count  Dtype \n",
      "---  ------              --------------  ----- \n",
      " 0   tracking_number     9961 non-null   object\n",
      " 1   checkpoint_status   9961 non-null   object\n",
      " 2   status_description  9961 non-null   object\n",
      " 3   wrong_order         9961 non-null   int64 \n",
      "dtypes: int64(1), object(3)\n",
      "memory usage: 311.4+ KB\n"
     ]
    }
   ],
   "source": [
    "root_path = \"data/wrong_order/train/\"\n",
    "file_list = [\"train_set.xlsx\"]\n",
    "\n",
    "li = []\n",
    "\n",
    "for file in file_list:\n",
    "    df = pd.read_excel(root_path+file)\n",
    "    li.append(df)\n",
    "    \n",
    "data = pd.concat(li, axis=0, ignore_index=False)\n",
    "data.info()"
   ]
  },
  {
   "cell_type": "code",
   "execution_count": 3,
   "metadata": {},
   "outputs": [
    {
     "data": {
      "text/html": [
       "<div>\n",
       "<style scoped>\n",
       "    .dataframe tbody tr th:only-of-type {\n",
       "        vertical-align: middle;\n",
       "    }\n",
       "\n",
       "    .dataframe tbody tr th {\n",
       "        vertical-align: top;\n",
       "    }\n",
       "\n",
       "    .dataframe thead th {\n",
       "        text-align: right;\n",
       "    }\n",
       "</style>\n",
       "<table border=\"1\" class=\"dataframe\">\n",
       "  <thead>\n",
       "    <tr style=\"text-align: right;\">\n",
       "      <th></th>\n",
       "      <th>tracking_number</th>\n",
       "      <th>checkpoint_status</th>\n",
       "      <th>status_description</th>\n",
       "      <th>wrong_order</th>\n",
       "    </tr>\n",
       "  </thead>\n",
       "  <tbody>\n",
       "    <tr>\n",
       "      <th>0</th>\n",
       "      <td>YT2101621236003930</td>\n",
       "      <td>TRACKING_ONLINE</td>\n",
       "      <td>SHENZHEN  Arrived at Sort Facility SHENZHEN .</td>\n",
       "      <td>0</td>\n",
       "    </tr>\n",
       "    <tr>\n",
       "      <th>1</th>\n",
       "      <td>YT2101621236003930</td>\n",
       "      <td>TRACKING_ONLINE</td>\n",
       "      <td>SHENZHEN  Arrived at Sort Facility SHENZHEN . ...</td>\n",
       "      <td>0</td>\n",
       "    </tr>\n",
       "    <tr>\n",
       "      <th>2</th>\n",
       "      <td>YT2101621236003930</td>\n",
       "      <td>TRACKING_ONLINE</td>\n",
       "      <td>SHENZHEN  Arrived at Sort Facility SHENZHEN . ...</td>\n",
       "      <td>0</td>\n",
       "    </tr>\n",
       "    <tr>\n",
       "      <th>3</th>\n",
       "      <td>YT2101621236003930</td>\n",
       "      <td>TRACKING_ONLINE</td>\n",
       "      <td>SHENZHEN  Departed Facility In processing cent...</td>\n",
       "      <td>1</td>\n",
       "    </tr>\n",
       "    <tr>\n",
       "      <th>4</th>\n",
       "      <td>YT2101621236003930</td>\n",
       "      <td>IN_US</td>\n",
       "      <td>SHENZHEN  Arrived at Sort Facility SHENZHEN . ...</td>\n",
       "      <td>0</td>\n",
       "    </tr>\n",
       "  </tbody>\n",
       "</table>\n",
       "</div>"
      ],
      "text/plain": [
       "      tracking_number checkpoint_status  \\\n",
       "0  YT2101621236003930   TRACKING_ONLINE   \n",
       "1  YT2101621236003930   TRACKING_ONLINE   \n",
       "2  YT2101621236003930   TRACKING_ONLINE   \n",
       "3  YT2101621236003930   TRACKING_ONLINE   \n",
       "4  YT2101621236003930             IN_US   \n",
       "\n",
       "                                  status_description  wrong_order  \n",
       "0     SHENZHEN  Arrived at Sort Facility SHENZHEN .             0  \n",
       "1  SHENZHEN  Arrived at Sort Facility SHENZHEN . ...            0  \n",
       "2  SHENZHEN  Arrived at Sort Facility SHENZHEN . ...            0  \n",
       "3  SHENZHEN  Departed Facility In processing cent...            1  \n",
       "4  SHENZHEN  Arrived at Sort Facility SHENZHEN . ...            0  "
      ]
     },
     "execution_count": 3,
     "metadata": {},
     "output_type": "execute_result"
    }
   ],
   "source": [
    "data.head()"
   ]
  },
  {
   "cell_type": "code",
   "execution_count": 6,
   "metadata": {},
   "outputs": [
    {
     "data": {
      "text/plain": [
       "0       YT2101621236003930\n",
       "1       YT2101621236003930\n",
       "2       YT2101621236003930\n",
       "3       YT2101621236003930\n",
       "4       YT2101621236003930\n",
       "               ...        \n",
       "9956    YT2101621272026865\n",
       "9957    YT2101621272026865\n",
       "9958    YT2101621272026865\n",
       "9959    YT2101621272026865\n",
       "9960    YT2101621272026865\n",
       "Name: tracking_number, Length: 9961, dtype: object"
      ]
     },
     "execution_count": 6,
     "metadata": {},
     "output_type": "execute_result"
    }
   ],
   "source": [
    "data[\"tracking_number\"]"
   ]
  },
  {
   "cell_type": "code",
   "execution_count": 5,
   "metadata": {},
   "outputs": [
    {
     "data": {
      "text/html": [
       "<div>\n",
       "<style scoped>\n",
       "    .dataframe tbody tr th:only-of-type {\n",
       "        vertical-align: middle;\n",
       "    }\n",
       "\n",
       "    .dataframe tbody tr th {\n",
       "        vertical-align: top;\n",
       "    }\n",
       "\n",
       "    .dataframe thead th {\n",
       "        text-align: right;\n",
       "    }\n",
       "</style>\n",
       "<table border=\"1\" class=\"dataframe\">\n",
       "  <thead>\n",
       "    <tr style=\"text-align: right;\">\n",
       "      <th></th>\n",
       "      <th>tracking_number</th>\n",
       "      <th>checkpoint_status</th>\n",
       "      <th>status_description</th>\n",
       "      <th>wrong_order</th>\n",
       "    </tr>\n",
       "  </thead>\n",
       "  <tbody>\n",
       "    <tr>\n",
       "      <th>9956</th>\n",
       "      <td>YT2101621272026865</td>\n",
       "      <td>IN_US</td>\n",
       "      <td>ZHENGZHOU  Arrived at Sort Facility ZHENGZHOU ...</td>\n",
       "      <td>0</td>\n",
       "    </tr>\n",
       "    <tr>\n",
       "      <th>9957</th>\n",
       "      <td>YT2101621272026865</td>\n",
       "      <td>IN_US</td>\n",
       "      <td>Arrived at Sort Facility .   Custom clearanc...</td>\n",
       "      <td>1</td>\n",
       "    </tr>\n",
       "    <tr>\n",
       "      <th>9958</th>\n",
       "      <td>YT2101621272026865</td>\n",
       "      <td>IN_US</td>\n",
       "      <td>ZHENGZHOU  Arrived at Sort Facility ZHENGZHOU ...</td>\n",
       "      <td>0</td>\n",
       "    </tr>\n",
       "    <tr>\n",
       "      <th>9959</th>\n",
       "      <td>YT2101621272026865</td>\n",
       "      <td>IN_US</td>\n",
       "      <td>ZHENGZHOU  Arrived at Sort Facility ZHENGZHOU ...</td>\n",
       "      <td>0</td>\n",
       "    </tr>\n",
       "    <tr>\n",
       "      <th>9960</th>\n",
       "      <td>YT2101621272026865</td>\n",
       "      <td>COMPLETED</td>\n",
       "      <td>WINDHAM,ME  Delivered, In/At Mailbox .   Custo...</td>\n",
       "      <td>1</td>\n",
       "    </tr>\n",
       "  </tbody>\n",
       "</table>\n",
       "</div>"
      ],
      "text/plain": [
       "         tracking_number checkpoint_status  \\\n",
       "9956  YT2101621272026865             IN_US   \n",
       "9957  YT2101621272026865             IN_US   \n",
       "9958  YT2101621272026865             IN_US   \n",
       "9959  YT2101621272026865             IN_US   \n",
       "9960  YT2101621272026865         COMPLETED   \n",
       "\n",
       "                                     status_description  wrong_order  \n",
       "9956  ZHENGZHOU  Arrived at Sort Facility ZHENGZHOU ...            0  \n",
       "9957    Arrived at Sort Facility .   Custom clearanc...            1  \n",
       "9958  ZHENGZHOU  Arrived at Sort Facility ZHENGZHOU ...            0  \n",
       "9959  ZHENGZHOU  Arrived at Sort Facility ZHENGZHOU ...            0  \n",
       "9960  WINDHAM,ME  Delivered, In/At Mailbox .   Custo...            1  "
      ]
     },
     "execution_count": 5,
     "metadata": {},
     "output_type": "execute_result"
    }
   ],
   "source": [
    "data.tail()"
   ]
  },
  {
   "cell_type": "code",
   "execution_count": null,
   "metadata": {},
   "outputs": [],
   "source": []
  },
  {
   "cell_type": "code",
   "execution_count": null,
   "metadata": {},
   "outputs": [],
   "source": []
  },
  {
   "cell_type": "code",
   "execution_count": null,
   "metadata": {},
   "outputs": [],
   "source": []
  },
  {
   "cell_type": "code",
   "execution_count": null,
   "metadata": {},
   "outputs": [],
   "source": []
  },
  {
   "cell_type": "code",
   "execution_count": null,
   "metadata": {},
   "outputs": [],
   "source": []
  },
  {
   "cell_type": "code",
   "execution_count": 47,
   "metadata": {},
   "outputs": [
    {
     "data": {
      "text/html": [
       "<div>\n",
       "<style scoped>\n",
       "    .dataframe tbody tr th:only-of-type {\n",
       "        vertical-align: middle;\n",
       "    }\n",
       "\n",
       "    .dataframe tbody tr th {\n",
       "        vertical-align: top;\n",
       "    }\n",
       "\n",
       "    .dataframe thead th {\n",
       "        text-align: right;\n",
       "    }\n",
       "</style>\n",
       "<table border=\"1\" class=\"dataframe\">\n",
       "  <thead>\n",
       "    <tr style=\"text-align: right;\">\n",
       "      <th></th>\n",
       "      <th>tracking_number</th>\n",
       "      <th>checkpoint_status</th>\n",
       "      <th>status_description</th>\n",
       "      <th>check_log</th>\n",
       "      <th>index</th>\n",
       "    </tr>\n",
       "  </thead>\n",
       "  <tbody>\n",
       "    <tr>\n",
       "      <th>9956</th>\n",
       "      <td>YT2101621272026865</td>\n",
       "      <td>IN_US</td>\n",
       "      <td>ZHENGZHOU  Arrived at Sort Facility ZHENGZHOU ...</td>\n",
       "      <td>1</td>\n",
       "      <td>9956</td>\n",
       "    </tr>\n",
       "    <tr>\n",
       "      <th>9957</th>\n",
       "      <td>YT2101621272026865</td>\n",
       "      <td>IN_US</td>\n",
       "      <td>ZHENGZHOU  Arrived at Sort Facility ZHENGZHOU ...</td>\n",
       "      <td>1</td>\n",
       "      <td>9957</td>\n",
       "    </tr>\n",
       "    <tr>\n",
       "      <th>9958</th>\n",
       "      <td>YT2101621272026865</td>\n",
       "      <td>IN_US</td>\n",
       "      <td>ZHENGZHOU  Arrived at Sort Facility ZHENGZHOU ...</td>\n",
       "      <td>1</td>\n",
       "      <td>9958</td>\n",
       "    </tr>\n",
       "    <tr>\n",
       "      <th>9959</th>\n",
       "      <td>YT2101621272026865</td>\n",
       "      <td>IN_US</td>\n",
       "      <td>ZHENGZHOU  Arrived at Sort Facility ZHENGZHOU ...</td>\n",
       "      <td>1</td>\n",
       "      <td>9959</td>\n",
       "    </tr>\n",
       "    <tr>\n",
       "      <th>9960</th>\n",
       "      <td>YT2101621272026865</td>\n",
       "      <td>COMPLETED</td>\n",
       "      <td>ZHENGZHOU  Arrived at Sort Facility ZHENGZHOU ...</td>\n",
       "      <td>1</td>\n",
       "      <td>9960</td>\n",
       "    </tr>\n",
       "  </tbody>\n",
       "</table>\n",
       "</div>"
      ],
      "text/plain": [
       "         tracking_number checkpoint_status  \\\n",
       "9956  YT2101621272026865             IN_US   \n",
       "9957  YT2101621272026865             IN_US   \n",
       "9958  YT2101621272026865             IN_US   \n",
       "9959  YT2101621272026865             IN_US   \n",
       "9960  YT2101621272026865         COMPLETED   \n",
       "\n",
       "                                     status_description  check_log  index  \n",
       "9956  ZHENGZHOU  Arrived at Sort Facility ZHENGZHOU ...          1   9956  \n",
       "9957  ZHENGZHOU  Arrived at Sort Facility ZHENGZHOU ...          1   9957  \n",
       "9958  ZHENGZHOU  Arrived at Sort Facility ZHENGZHOU ...          1   9958  \n",
       "9959  ZHENGZHOU  Arrived at Sort Facility ZHENGZHOU ...          1   9959  \n",
       "9960  ZHENGZHOU  Arrived at Sort Facility ZHENGZHOU ...          1   9960  "
      ]
     },
     "execution_count": 47,
     "metadata": {},
     "output_type": "execute_result"
    }
   ],
   "source": [
    "data[\"check_log\"] = 1\n",
    "data[\"index\"] = data.index\n",
    "data.tail()"
   ]
  },
  {
   "cell_type": "code",
   "execution_count": 48,
   "metadata": {},
   "outputs": [
    {
     "data": {
      "text/html": [
       "<div>\n",
       "<style scoped>\n",
       "    .dataframe tbody tr th:only-of-type {\n",
       "        vertical-align: middle;\n",
       "    }\n",
       "\n",
       "    .dataframe tbody tr th {\n",
       "        vertical-align: top;\n",
       "    }\n",
       "\n",
       "    .dataframe thead th {\n",
       "        text-align: right;\n",
       "    }\n",
       "</style>\n",
       "<table border=\"1\" class=\"dataframe\">\n",
       "  <thead>\n",
       "    <tr style=\"text-align: right;\">\n",
       "      <th></th>\n",
       "      <th>tracking_number</th>\n",
       "      <th>status_description</th>\n",
       "      <th>check_log</th>\n",
       "      <th>index</th>\n",
       "    </tr>\n",
       "    <tr>\n",
       "      <th>checkpoint_status</th>\n",
       "      <th></th>\n",
       "      <th></th>\n",
       "      <th></th>\n",
       "      <th></th>\n",
       "    </tr>\n",
       "  </thead>\n",
       "  <tbody>\n",
       "    <tr>\n",
       "      <th>COMPLETED</th>\n",
       "      <td>168</td>\n",
       "      <td>168</td>\n",
       "      <td>168</td>\n",
       "      <td>168</td>\n",
       "    </tr>\n",
       "    <tr>\n",
       "      <th>DELIVERED_GUARANTEE</th>\n",
       "      <td>1</td>\n",
       "      <td>1</td>\n",
       "      <td>1</td>\n",
       "      <td>1</td>\n",
       "    </tr>\n",
       "    <tr>\n",
       "      <th>IN_US</th>\n",
       "      <td>6357</td>\n",
       "      <td>6357</td>\n",
       "      <td>6357</td>\n",
       "      <td>6357</td>\n",
       "    </tr>\n",
       "    <tr>\n",
       "      <th>RETURN_TO_SENDER</th>\n",
       "      <td>670</td>\n",
       "      <td>670</td>\n",
       "      <td>670</td>\n",
       "      <td>670</td>\n",
       "    </tr>\n",
       "    <tr>\n",
       "      <th>TRACKING_AVAILABLE</th>\n",
       "      <td>349</td>\n",
       "      <td>349</td>\n",
       "      <td>349</td>\n",
       "      <td>349</td>\n",
       "    </tr>\n",
       "    <tr>\n",
       "      <th>TRACKING_ONLINE</th>\n",
       "      <td>2416</td>\n",
       "      <td>2416</td>\n",
       "      <td>2416</td>\n",
       "      <td>2416</td>\n",
       "    </tr>\n",
       "  </tbody>\n",
       "</table>\n",
       "</div>"
      ],
      "text/plain": [
       "                     tracking_number  status_description  check_log  index\n",
       "checkpoint_status                                                         \n",
       "COMPLETED                        168                 168        168    168\n",
       "DELIVERED_GUARANTEE                1                   1          1      1\n",
       "IN_US                           6357                6357       6357   6357\n",
       "RETURN_TO_SENDER                 670                 670        670    670\n",
       "TRACKING_AVAILABLE               349                 349        349    349\n",
       "TRACKING_ONLINE                 2416                2416       2416   2416"
      ]
     },
     "execution_count": 48,
     "metadata": {},
     "output_type": "execute_result"
    }
   ],
   "source": [
    "data.groupby(\"checkpoint_status\").count()"
   ]
  },
  {
   "cell_type": "code",
   "execution_count": 49,
   "metadata": {},
   "outputs": [
    {
     "data": {
      "text/html": [
       "<div>\n",
       "<style scoped>\n",
       "    .dataframe tbody tr th:only-of-type {\n",
       "        vertical-align: middle;\n",
       "    }\n",
       "\n",
       "    .dataframe tbody tr th {\n",
       "        vertical-align: top;\n",
       "    }\n",
       "\n",
       "    .dataframe thead th {\n",
       "        text-align: right;\n",
       "    }\n",
       "</style>\n",
       "<table border=\"1\" class=\"dataframe\">\n",
       "  <thead>\n",
       "    <tr style=\"text-align: right;\">\n",
       "      <th></th>\n",
       "      <th>tracking_number</th>\n",
       "      <th>checkpoint_status</th>\n",
       "      <th>status_description</th>\n",
       "      <th>index</th>\n",
       "    </tr>\n",
       "    <tr>\n",
       "      <th>check_log</th>\n",
       "      <th></th>\n",
       "      <th></th>\n",
       "      <th></th>\n",
       "      <th></th>\n",
       "    </tr>\n",
       "  </thead>\n",
       "  <tbody>\n",
       "    <tr>\n",
       "      <th>1</th>\n",
       "      <td>9961</td>\n",
       "      <td>9961</td>\n",
       "      <td>9961</td>\n",
       "      <td>9961</td>\n",
       "    </tr>\n",
       "  </tbody>\n",
       "</table>\n",
       "</div>"
      ],
      "text/plain": [
       "           tracking_number  checkpoint_status  status_description  index\n",
       "check_log                                                               \n",
       "1                     9961               9961                9961   9961"
      ]
     },
     "execution_count": 49,
     "metadata": {},
     "output_type": "execute_result"
    }
   ],
   "source": [
    "data.groupby(\"check_log\").count()"
   ]
  },
  {
   "cell_type": "code",
   "execution_count": 50,
   "metadata": {},
   "outputs": [],
   "source": [
    "for name, group in data.groupby(\"checkpoint_status\"):\n",
    "    len_group = len(group)\n",
    "    count = 0\n",
    "    while count < len_group/3:\n",
    "        count+=1\n",
    "        index_in_group = random.randint(0, len_group-1)\n",
    "        index = group.iloc[index_in_group][\"index\"]\n",
    "        \n",
    "        log_list = data.iloc[index][\"status_description\"].split(\" . \")\n",
    "        try:\n",
    "            log_list.remove(\"\")\n",
    "        except:\n",
    "            a = 0\n",
    "        if len(log_list) > 3:\n",
    "            \n",
    "            random.shuffle(log_list)\n",
    "            data.at[index, \"status_description\"] = ( \" . \".join(log_list) + \" . \" )\n",
    "            data.at[index, \"check_log\"] = 0\n",
    "    "
   ]
  },
  {
   "cell_type": "code",
   "execution_count": 51,
   "metadata": {},
   "outputs": [],
   "source": [
    "del data[\"index\"]"
   ]
  },
  {
   "cell_type": "code",
   "execution_count": 52,
   "metadata": {},
   "outputs": [
    {
     "data": {
      "text/html": [
       "<div>\n",
       "<style scoped>\n",
       "    .dataframe tbody tr th:only-of-type {\n",
       "        vertical-align: middle;\n",
       "    }\n",
       "\n",
       "    .dataframe tbody tr th {\n",
       "        vertical-align: top;\n",
       "    }\n",
       "\n",
       "    .dataframe thead th {\n",
       "        text-align: right;\n",
       "    }\n",
       "</style>\n",
       "<table border=\"1\" class=\"dataframe\">\n",
       "  <thead>\n",
       "    <tr style=\"text-align: right;\">\n",
       "      <th></th>\n",
       "      <th>tracking_number</th>\n",
       "      <th>checkpoint_status</th>\n",
       "      <th>status_description</th>\n",
       "    </tr>\n",
       "    <tr>\n",
       "      <th>check_log</th>\n",
       "      <th></th>\n",
       "      <th></th>\n",
       "      <th></th>\n",
       "    </tr>\n",
       "  </thead>\n",
       "  <tbody>\n",
       "    <tr>\n",
       "      <th>0</th>\n",
       "      <td>2389</td>\n",
       "      <td>2389</td>\n",
       "      <td>2389</td>\n",
       "    </tr>\n",
       "    <tr>\n",
       "      <th>1</th>\n",
       "      <td>7572</td>\n",
       "      <td>7572</td>\n",
       "      <td>7572</td>\n",
       "    </tr>\n",
       "  </tbody>\n",
       "</table>\n",
       "</div>"
      ],
      "text/plain": [
       "           tracking_number  checkpoint_status  status_description\n",
       "check_log                                                        \n",
       "0                     2389               2389                2389\n",
       "1                     7572               7572                7572"
      ]
     },
     "execution_count": 52,
     "metadata": {},
     "output_type": "execute_result"
    }
   ],
   "source": [
    "data.groupby(\"check_log\").count()"
   ]
  },
  {
   "cell_type": "code",
   "execution_count": 18,
   "metadata": {},
   "outputs": [],
   "source": [
    "data.to_excel(root_path+\"train_set2.xlsx\", index=False)"
   ]
  },
  {
   "cell_type": "code",
   "execution_count": null,
   "metadata": {},
   "outputs": [],
   "source": []
  },
  {
   "cell_type": "code",
   "execution_count": null,
   "metadata": {},
   "outputs": [],
   "source": []
  },
  {
   "cell_type": "code",
   "execution_count": null,
   "metadata": {},
   "outputs": [],
   "source": []
  }
 ],
 "metadata": {
  "kernelspec": {
   "display_name": "Python 3",
   "language": "python",
   "name": "python3"
  },
  "language_info": {
   "codemirror_mode": {
    "name": "ipython",
    "version": 3
   },
   "file_extension": ".py",
   "mimetype": "text/x-python",
   "name": "python",
   "nbconvert_exporter": "python",
   "pygments_lexer": "ipython3",
   "version": "3.7.3"
  }
 },
 "nbformat": 4,
 "nbformat_minor": 4
}
