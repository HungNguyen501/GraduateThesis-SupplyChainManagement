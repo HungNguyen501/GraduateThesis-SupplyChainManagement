{
 "cells": [
  {
   "cell_type": "code",
   "execution_count": 20,
   "metadata": {},
   "outputs": [],
   "source": [
    "import sys\n",
    "import numpy as np\n",
    "import pandas as pd\n",
    "import matplotlib.pyplot as plt\n",
    "from sklearn.metrics import accuracy_score\n",
    "from load_model import clean_text, bert_clean_text, text_fit_tokenizer, LSTM, BILSTM, BERT, CheckWrongOrder\n",
    "import warnings\n",
    "warnings.filterwarnings(\"ignore\", category=DeprecationWarning)"
   ]
  },
  {
   "cell_type": "code",
   "execution_count": 21,
   "metadata": {},
   "outputs": [],
   "source": [
    "import seaborn as sn\n",
    "from sklearn.metrics import confusion_matrix\n",
    "\n",
    "\n",
    "def show_confusion_matrix(y_test, y_pred, labels, model_name):\n",
    "    cm = confusion_matrix(y_test, y_pred, labels=labels, normalize=None)\n",
    "#     print(cm)\n",
    "\n",
    "    df_cm = pd.DataFrame(cm, index = [i for i in labels], columns = [i for i in labels])\n",
    "    plt.figure(figsize = (12,7))\n",
    "\n",
    "    cmap = sn.cm.rocket_r\n",
    "    sn.heatmap(df_cm, annot=True, fmt=\".0f\", cmap = cmap)\n",
    "\n",
    "    plt.title(\"Confusion Matrix - {}\".format(model_name), fontsize = 30)\n",
    "    plt.show()"
   ]
  },
  {
   "cell_type": "code",
   "execution_count": 22,
   "metadata": {},
   "outputs": [],
   "source": [
    "def evaluate_model(model_name, X_test):\n",
    "    labels = []\n",
    "    y_test = list(data[\"checkpoint_status\"])\n",
    "    y_pred = []\n",
    "    \n",
    "    if model_name == \"lstm\":\n",
    "        labels = ['COMPLETED', 'DELIVERED_GUARANTEE', 'IN_US', 'RETURN_TO_SENDER', 'TRACKING_AVAILABLE', 'TRACKING_ONLINE']\n",
    "        model = lstm\n",
    "    elif model_name == \"bert\":\n",
    "        labels = ['COMPLETED', 'DELIVERED_GUARANTEE', 'IN_US', 'RETURN_TO_SENDER', 'TRACKING_AVAILABLE', 'TRACKING_ONLINE']\n",
    "        model = bert\n",
    "    elif model_name == \"check_wrong_order\":\n",
    "        labels = [0, 1]\n",
    "        y_test = list(data[\"wrong_order\"])\n",
    "        model = cwo\n",
    "    \n",
    "    for text in X_test:\n",
    "        pred_detail, score = model.predict(text)\n",
    "        y_pred.append(score)\n",
    "        \n",
    "    show_confusion_matrix(y_test, y_pred, labels, model_name)\n",
    "    return y_test, y_pred        "
   ]
  },
  {
   "cell_type": "code",
   "execution_count": 23,
   "metadata": {},
   "outputs": [],
   "source": [
    "lstm = LSTM()\n",
    "bert = BERT()\n",
    "cwo = CheckWrongOrder()"
   ]
  },
  {
   "cell_type": "code",
   "execution_count": 24,
   "metadata": {},
   "outputs": [
    {
     "name": "stdout",
     "output_type": "stream",
     "text": [
      "Model: \"sequential\"\n",
      "_________________________________________________________________\n",
      "Layer (type)                 Output Shape              Param #   \n",
      "=================================================================\n",
      "embedding (Embedding)        (None, 256, 100)          76100     \n",
      "_________________________________________________________________\n",
      "conv1d (Conv1D)              (None, 256, 32)           9632      \n",
      "_________________________________________________________________\n",
      "max_pooling1d (MaxPooling1D) (None, 128, 32)           0         \n",
      "_________________________________________________________________\n",
      "lstm (LSTM)                  (None, 100)               53200     \n",
      "_________________________________________________________________\n",
      "dense (Dense)                (None, 6)                 606       \n",
      "=================================================================\n",
      "Total params: 139,538\n",
      "Trainable params: 139,538\n",
      "Non-trainable params: 0\n",
      "_________________________________________________________________\n"
     ]
    }
   ],
   "source": [
    "lstm.model.summary()"
   ]
  },
  {
   "cell_type": "code",
   "execution_count": 25,
   "metadata": {},
   "outputs": [],
   "source": [
    "# from torchsummary import summary\n",
    "# help(summary)\n",
    "# import torchvision.models as models\n",
    "\n",
    "# summary(bert.model, (3, 224, 224))\n",
    "# print(bert.model)"
   ]
  },
  {
   "cell_type": "markdown",
   "metadata": {},
   "source": [
    "## Test"
   ]
  },
  {
   "cell_type": "code",
   "execution_count": 26,
   "metadata": {},
   "outputs": [
    {
     "data": {
      "text/plain": [
       "'  Shipment information received . SHENZHEN  Arrived at Sort Facility SHENZHEN . SHENZHEN  Departed Facility in SHENZHEN .   Departed Facility In processing center .   Arrive at international airport to abroad .   Departed from AIRPORT of Origin .   Arrived at AIRPORT of Destination，clearance in process .   Custom clearance completed .   Arrived at Sort Facility .   Departed from Facility .   delivery to local courier . NORTH LAS VEGAS,NV  Arrived Shipping Partner Facility, USPS Awaiting Item . NORTH LAS VEGAS,NV  Departed Shipping Partner Facility, USPS Awaiting Item . IRVING,TX  USPS in possession of item . IRVING,TX  Departed USPS Facility . SHREVEPORT LA DISTRIBUTION CENTER  Arrived at USPS Regional Facility . SHREVEPORT LA DISTRIBUTION CENTER  Accepted at USPS Regional Destination Facility . SHREVEPORT LA DISTRIBUTION CENTER  Departed USPS Regional Destination Facility .   In Transit to Next Facility . SHREVEPORT LA DISTRIBUTION CENTER  Departed USPS Regional Facility . ALEXANDRIA,LA  Arrived at USPS Facility . ALEXANDRIA,LA  Departed USPS Facility . WOODWORTH,LA  Arrived at USPS Facility . WOODWORTH,LA  Arrived at Post Office . WOODWORTH,LA  Out for Delivery, Expected Delivery by 9:00pm . WOODWORTH,LA  Delivered, In/At Mailbox . '"
      ]
     },
     "execution_count": 26,
     "metadata": {},
     "output_type": "execute_result"
    }
   ],
   "source": [
    "text = \"  Shipment information received . SHENZHEN  Arrived at Sort Facility SHENZHEN . SHENZHEN  Departed Facility in SHENZHEN .   Departed Facility In processing center .   Arrive at international airport to abroad .   Departed from AIRPORT of Origin .   Arrived at AIRPORT of Destination，clearance in process .   Custom clearance completed .   Arrived at Sort Facility .   Departed from Facility .   delivery to local courier . NORTH LAS VEGAS,NV  Arrived Shipping Partner Facility, USPS Awaiting Item . NORTH LAS VEGAS,NV  Departed Shipping Partner Facility, USPS Awaiting Item . IRVING,TX  USPS in possession of item . IRVING,TX  Departed USPS Facility . SHREVEPORT LA DISTRIBUTION CENTER  Arrived at USPS Regional Facility . SHREVEPORT LA DISTRIBUTION CENTER  Accepted at USPS Regional Destination Facility . SHREVEPORT LA DISTRIBUTION CENTER  Departed USPS Regional Destination Facility .   In Transit to Next Facility . SHREVEPORT LA DISTRIBUTION CENTER  Departed USPS Regional Facility . ALEXANDRIA,LA  Arrived at USPS Facility . ALEXANDRIA,LA  Departed USPS Facility . WOODWORTH,LA  Arrived at USPS Facility . WOODWORTH,LA  Arrived at Post Office . WOODWORTH,LA  Out for Delivery, Expected Delivery by 9:00pm . WOODWORTH,LA  Delivered, In/At Mailbox . \"\n",
    "text"
   ]
  },
  {
   "cell_type": "code",
   "execution_count": 27,
   "metadata": {},
   "outputs": [
    {
     "data": {
      "text/plain": [
       "(array([9.9874e-01, 3.8000e-04, 1.8000e-04, 5.7000e-04, 1.0000e-05,\n",
       "        1.2000e-04]),\n",
       " 'COMPLETED')"
      ]
     },
     "execution_count": 27,
     "metadata": {},
     "output_type": "execute_result"
    }
   ],
   "source": [
    "lstm.predict(text)"
   ]
  },
  {
   "cell_type": "code",
   "execution_count": 28,
   "metadata": {},
   "outputs": [
    {
     "data": {
      "text/plain": [
       "(array([ 4.86329, -0.24504, -1.23428, -1.89095, -1.06534, -1.9644 ]),\n",
       " 'COMPLETED')"
      ]
     },
     "execution_count": 28,
     "metadata": {},
     "output_type": "execute_result"
    }
   ],
   "source": [
    "bert.predict(text)"
   ]
  },
  {
   "cell_type": "markdown",
   "metadata": {},
   "source": [
    "## Load data"
   ]
  },
  {
   "cell_type": "code",
   "execution_count": 17,
   "metadata": {},
   "outputs": [
    {
     "data": {
      "text/html": [
       "<div>\n",
       "<style scoped>\n",
       "    .dataframe tbody tr th:only-of-type {\n",
       "        vertical-align: middle;\n",
       "    }\n",
       "\n",
       "    .dataframe tbody tr th {\n",
       "        vertical-align: top;\n",
       "    }\n",
       "\n",
       "    .dataframe thead th {\n",
       "        text-align: right;\n",
       "    }\n",
       "</style>\n",
       "<table border=\"1\" class=\"dataframe\">\n",
       "  <thead>\n",
       "    <tr style=\"text-align: right;\">\n",
       "      <th></th>\n",
       "      <th>tracking_number</th>\n",
       "      <th>checkpoint_status</th>\n",
       "      <th>status_description</th>\n",
       "    </tr>\n",
       "  </thead>\n",
       "  <tbody>\n",
       "    <tr>\n",
       "      <th>2300</th>\n",
       "      <td>YT2012521272090726</td>\n",
       "      <td>TRACKING_ONLINE</td>\n",
       "      <td>Auburn, label created,manifest. SHANGHAI, Arri...</td>\n",
       "    </tr>\n",
       "    <tr>\n",
       "      <th>2301</th>\n",
       "      <td>YT2012521272090726</td>\n",
       "      <td>TRACKING_ONLINE</td>\n",
       "      <td>Auburn, label created,manifest. SHANGHAI, Arri...</td>\n",
       "    </tr>\n",
       "    <tr>\n",
       "      <th>2302</th>\n",
       "      <td>YT2012521272090726</td>\n",
       "      <td>IN_US</td>\n",
       "      <td>Auburn, label created,manifest. SHANGHAI, Arri...</td>\n",
       "    </tr>\n",
       "    <tr>\n",
       "      <th>2303</th>\n",
       "      <td>YT2012521272090726</td>\n",
       "      <td>RETURN_TO_SENDER</td>\n",
       "      <td>Auburn, label created,manifest. SHANGHAI, Arri...</td>\n",
       "    </tr>\n",
       "    <tr>\n",
       "      <th>2304</th>\n",
       "      <td>YT2012521272090726</td>\n",
       "      <td>COMPLETED</td>\n",
       "      <td>Auburn, label created,manifest. SHANGHAI, Arri...</td>\n",
       "    </tr>\n",
       "  </tbody>\n",
       "</table>\n",
       "</div>"
      ],
      "text/plain": [
       "         tracking_number checkpoint_status  \\\n",
       "2300  YT2012521272090726   TRACKING_ONLINE   \n",
       "2301  YT2012521272090726   TRACKING_ONLINE   \n",
       "2302  YT2012521272090726             IN_US   \n",
       "2303  YT2012521272090726  RETURN_TO_SENDER   \n",
       "2304  YT2012521272090726         COMPLETED   \n",
       "\n",
       "                                     status_description  \n",
       "2300  Auburn, label created,manifest. SHANGHAI, Arri...  \n",
       "2301  Auburn, label created,manifest. SHANGHAI, Arri...  \n",
       "2302  Auburn, label created,manifest. SHANGHAI, Arri...  \n",
       "2303  Auburn, label created,manifest. SHANGHAI, Arri...  \n",
       "2304  Auburn, label created,manifest. SHANGHAI, Arri...  "
      ]
     },
     "execution_count": 17,
     "metadata": {},
     "output_type": "execute_result"
    }
   ],
   "source": [
    "root_path = \"data/predict_status/test/\"\n",
    "file_list = [\"test_set.xlsx\"]\n",
    "\n",
    "li = []\n",
    "for file in file_list:\n",
    "    df = pd.read_excel(root_path + file)\n",
    "    li.append(df)\n",
    "    \n",
    "data = pd.concat(li, axis=0,ignore_index=True)\n",
    "data['checkpoint_status'] = data['checkpoint_status'].astype(str)\n",
    "data.tail()"
   ]
  },
  {
   "cell_type": "code",
   "execution_count": 18,
   "metadata": {},
   "outputs": [
    {
     "name": "stdout",
     "output_type": "stream",
     "text": [
      "2305\n"
     ]
    }
   ],
   "source": [
    "X_test = data[\"status_description\"]\n",
    "print(len(X_test))"
   ]
  },
  {
   "cell_type": "code",
   "execution_count": null,
   "metadata": {},
   "outputs": [],
   "source": []
  },
  {
   "cell_type": "code",
   "execution_count": null,
   "metadata": {},
   "outputs": [],
   "source": []
  },
  {
   "cell_type": "markdown",
   "metadata": {},
   "source": [
    "# LSTM"
   ]
  },
  {
   "cell_type": "code",
   "execution_count": 19,
   "metadata": {},
   "outputs": [
    {
     "data": {
      "image/png": "[encoded data removed]",
      "text/plain": [
       "<Figure size 864x504 with 2 Axes>"
      ]
     },
     "metadata": {
      "needs_background": "light"
     },
     "output_type": "display_data"
    }
   ],
   "source": [
    "lstm_y_test, lstm_y_pred = evaluate_model(\"lstm\", X_test)"
   ]
  },
  {
   "cell_type": "code",
   "execution_count": 20,
   "metadata": {},
   "outputs": [
    {
     "name": "stdout",
     "output_type": "stream",
     "text": [
      "LSTM accuracy on test set: 0.98915\n"
     ]
    }
   ],
   "source": [
    "print(\"LSTM accuracy on test set: {:0.5f}\".format(accuracy_score(lstm_y_test, lstm_y_pred)))"
   ]
  },
  {
   "cell_type": "code",
   "execution_count": 21,
   "metadata": {},
   "outputs": [
    {
     "name": "stdout",
     "output_type": "stream",
     "text": [
      "0 - YT2108121236004588: TRACKING_AVAILABLE==>DELIVERED_GUARANTEE\n",
      "459 - YT2103221236005484: IN_US==>COMPLETED\n",
      "497 - YT2103021236007656: IN_US==>COMPLETED\n",
      "1050 - YT2101121272024315: RETURN_TO_SENDER==>IN_US\n",
      "1051 - YT2101121272024315: RETURN_TO_SENDER==>IN_US\n",
      "1052 - YT2101121272024315: RETURN_TO_SENDER==>IN_US\n",
      "1053 - YT2101121272024315: RETURN_TO_SENDER==>IN_US\n",
      "1186 - YT2101221272023695: COMPLETED==>IN_US\n",
      "1378 - YT2036421272131660: COMPLETED==>IN_US\n",
      "1628 - YT2010821272127708: RETURN_TO_SENDER==>IN_US\n",
      "1629 - YT2010821272127708: RETURN_TO_SENDER==>IN_US\n",
      "1755 - YT2009021272094003: TRACKING_ONLINE==>TRACKING_AVAILABLE\n",
      "1909 - YT2012621272115907: IN_US==>RETURN_TO_SENDER\n",
      "1910 - YT2012621272115907: IN_US==>RETURN_TO_SENDER\n",
      "1911 - YT2012621272115907: IN_US==>RETURN_TO_SENDER\n",
      "1912 - YT2012621272115907: IN_US==>RETURN_TO_SENDER\n",
      "1913 - YT2012621272115907: IN_US==>RETURN_TO_SENDER\n",
      "1914 - YT2012621272115907: IN_US==>RETURN_TO_SENDER\n",
      "1915 - YT2012621272115907: IN_US==>RETURN_TO_SENDER\n",
      "1916 - YT2012621272115907: IN_US==>RETURN_TO_SENDER\n",
      "1917 - YT2012621272115907: IN_US==>RETURN_TO_SENDER\n",
      "1918 - YT2012621272115907: IN_US==>RETURN_TO_SENDER\n",
      "2296 - YT2012521272090527: RETURN_TO_SENDER==>IN_US\n",
      "2298 - YT2012521272090527: RETURN_TO_SENDER==>COMPLETED\n",
      "2304 - YT2012521272090726: RETURN_TO_SENDER==>COMPLETED\n",
      "\n",
      "Sum of miss prediction: 25\n"
     ]
    }
   ],
   "source": [
    "count = 0\n",
    "for i in range(len(lstm_y_test)):\n",
    "    if lstm_y_test[i] != lstm_y_pred[i]:\n",
    "        print(\"{} - {}: {}==>{}\".format(i, data.iloc[i][\"tracking_number\"], lstm_y_pred[i], lstm_y_test[i]))\n",
    "        count += 1\n",
    "\n",
    "print()\n",
    "print(\"Sum of miss prediction: {}\".format(count))"
   ]
  },
  {
   "cell_type": "code",
   "execution_count": null,
   "metadata": {},
   "outputs": [],
   "source": []
  },
  {
   "cell_type": "markdown",
   "metadata": {},
   "source": [
    "# BERT"
   ]
  },
  {
   "cell_type": "code",
   "execution_count": 33,
   "metadata": {},
   "outputs": [
    {
     "data": {
      "image/png": "[encoded data removed]",
      "text/plain": [
       "<Figure size 864x504 with 2 Axes>"
      ]
     },
     "metadata": {
      "needs_background": "light"
     },
     "output_type": "display_data"
    }
   ],
   "source": [
    "bert_y_test, bert_y_pred = evaluate_model(\"bert\", X_test)"
   ]
  },
  {
   "cell_type": "code",
   "execution_count": null,
   "metadata": {},
   "outputs": [],
   "source": []
  },
  {
   "cell_type": "code",
   "execution_count": 34,
   "metadata": {},
   "outputs": [
    {
     "name": "stdout",
     "output_type": "stream",
     "text": [
      "BERT accuracy on test set: 0.99523\n"
     ]
    }
   ],
   "source": [
    "print(\"BERT accuracy on test set: {:0.5f}\".format(accuracy_score(bert_y_test, bert_y_pred)))"
   ]
  },
  {
   "cell_type": "code",
   "execution_count": 35,
   "metadata": {},
   "outputs": [
    {
     "name": "stdout",
     "output_type": "stream",
     "text": [
      "0 - YT2108121236004588: TRACKING_AVAILABLE==>DELIVERED_GUARANTEE\n",
      "151 - YT2107521236004606: COMPLETED==>IN_US\n",
      "1108 - YT2101721236000427: RETURN_TO_SENDER==>COMPLETED\n",
      "1179 - YT2101221272023695: TRACKING_ONLINE==>IN_US\n",
      "1180 - YT2101221272023695: TRACKING_ONLINE==>IN_US\n",
      "1181 - YT2101221272023695: TRACKING_ONLINE==>IN_US\n",
      "1186 - YT2101221272023695: COMPLETED==>IN_US\n",
      "1336 - YT2101621236003569: IN_US==>COMPLETED\n",
      "1379 - YT2036421272131660: RETURN_TO_SENDER==>COMPLETED\n",
      "1755 - YT2009021272094003: TRACKING_ONLINE==>TRACKING_AVAILABLE\n",
      "2304 - YT2012521272090726: RETURN_TO_SENDER==>COMPLETED\n",
      "\n",
      "Sum of miss prediction: 11\n"
     ]
    }
   ],
   "source": [
    "count = 0\n",
    "for i in range(len(bert_y_test)):\n",
    "    if bert_y_test[i] != bert_y_pred[i]:\n",
    "        print(\"{} - {}: {}==>{}\".format(i, data.iloc[i][\"tracking_number\"], bert_y_pred[i], bert_y_test[i]))\n",
    "        count += 1\n",
    "        \n",
    "print()\n",
    "print(\"Sum of miss prediction: {}\".format(count))"
   ]
  },
  {
   "cell_type": "code",
   "execution_count": null,
   "metadata": {},
   "outputs": [],
   "source": []
  },
  {
   "cell_type": "code",
   "execution_count": null,
   "metadata": {},
   "outputs": [],
   "source": []
  },
  {
   "cell_type": "markdown",
   "metadata": {},
   "source": [
    "# Check Log"
   ]
  },
  {
   "cell_type": "code",
   "execution_count": 14,
   "metadata": {},
   "outputs": [
    {
     "data": {
      "text/html": [
       "<div>\n",
       "<style scoped>\n",
       "    .dataframe tbody tr th:only-of-type {\n",
       "        vertical-align: middle;\n",
       "    }\n",
       "\n",
       "    .dataframe tbody tr th {\n",
       "        vertical-align: top;\n",
       "    }\n",
       "\n",
       "    .dataframe thead th {\n",
       "        text-align: right;\n",
       "    }\n",
       "</style>\n",
       "<table border=\"1\" class=\"dataframe\">\n",
       "  <thead>\n",
       "    <tr style=\"text-align: right;\">\n",
       "      <th></th>\n",
       "      <th>tracking_number</th>\n",
       "      <th>checkpoint_status</th>\n",
       "      <th>status_description</th>\n",
       "      <th>wrong_order</th>\n",
       "    </tr>\n",
       "  </thead>\n",
       "  <tbody>\n",
       "    <tr>\n",
       "      <th>2300</th>\n",
       "      <td>YT2012521272090726</td>\n",
       "      <td>TRACKING_ONLINE</td>\n",
       "      <td>Auburn, label created,manifest. SHANGHAI, Arri...</td>\n",
       "      <td>0</td>\n",
       "    </tr>\n",
       "    <tr>\n",
       "      <th>2301</th>\n",
       "      <td>YT2012521272090726</td>\n",
       "      <td>TRACKING_ONLINE</td>\n",
       "      <td>Auburn, label created,manifest. SHANGHAI, Arri...</td>\n",
       "      <td>0</td>\n",
       "    </tr>\n",
       "    <tr>\n",
       "      <th>2302</th>\n",
       "      <td>YT2012521272090726</td>\n",
       "      <td>IN_US</td>\n",
       "      <td>Auburn, label created,manifest. SHANGHAI, Arri...</td>\n",
       "      <td>0</td>\n",
       "    </tr>\n",
       "    <tr>\n",
       "      <th>2303</th>\n",
       "      <td>YT2012521272090726</td>\n",
       "      <td>RETURN_TO_SENDER</td>\n",
       "      <td>Auburn, label created,manifest. SHANGHAI, Arri...</td>\n",
       "      <td>0</td>\n",
       "    </tr>\n",
       "    <tr>\n",
       "      <th>2304</th>\n",
       "      <td>YT2012521272090726</td>\n",
       "      <td>COMPLETED</td>\n",
       "      <td>Auburn, label created,manifest. SHANGHAI, Arri...</td>\n",
       "      <td>0</td>\n",
       "    </tr>\n",
       "  </tbody>\n",
       "</table>\n",
       "</div>"
      ],
      "text/plain": [
       "         tracking_number checkpoint_status  \\\n",
       "2300  YT2012521272090726   TRACKING_ONLINE   \n",
       "2301  YT2012521272090726   TRACKING_ONLINE   \n",
       "2302  YT2012521272090726             IN_US   \n",
       "2303  YT2012521272090726  RETURN_TO_SENDER   \n",
       "2304  YT2012521272090726         COMPLETED   \n",
       "\n",
       "                                     status_description  wrong_order  \n",
       "2300  Auburn, label created,manifest. SHANGHAI, Arri...            0  \n",
       "2301  Auburn, label created,manifest. SHANGHAI, Arri...            0  \n",
       "2302  Auburn, label created,manifest. SHANGHAI, Arri...            0  \n",
       "2303  Auburn, label created,manifest. SHANGHAI, Arri...            0  \n",
       "2304  Auburn, label created,manifest. SHANGHAI, Arri...            0  "
      ]
     },
     "execution_count": 14,
     "metadata": {},
     "output_type": "execute_result"
    }
   ],
   "source": [
    "file_list = [\"test_set.xlsx\"]\n",
    "root_path = \"data/wrong_order/test/\"\n",
    "\n",
    "li = []\n",
    "for file in file_list:\n",
    "    df = pd.read_excel(root_path + file)\n",
    "    li.append(df)\n",
    "    \n",
    "data = pd.concat(li, axis=0,ignore_index=True)\n",
    "data['wrong_order'] = data['wrong_order'].astype(int)\n",
    "data.tail()"
   ]
  },
  {
   "cell_type": "code",
   "execution_count": 15,
   "metadata": {},
   "outputs": [
    {
     "name": "stdout",
     "output_type": "stream",
     "text": [
      "2305\n"
     ]
    }
   ],
   "source": [
    "X_test = data[\"status_description\"]\n",
    "print(len(X_test))"
   ]
  },
  {
   "cell_type": "code",
   "execution_count": 19,
   "metadata": {},
   "outputs": [
    {
     "data": {
      "image/png": "[encoded data removed]",
      "text/plain": [
       "<Figure size 864x504 with 2 Axes>"
      ]
     },
     "metadata": {
      "needs_background": "light"
     },
     "output_type": "display_data"
    }
   ],
   "source": [
    "y_test, y_pred = evaluate_model(\"check_wrong_order\", X_test)"
   ]
  },
  {
   "cell_type": "code",
   "execution_count": 20,
   "metadata": {},
   "outputs": [
    {
     "name": "stdout",
     "output_type": "stream",
     "text": [
      "check log accuracy on test set: 0.99566\n"
     ]
    }
   ],
   "source": [
    "print(\"check log accuracy on test set: {:0.5f}\".format(accuracy_score(y_test, y_pred)))"
   ]
  },
  {
   "cell_type": "code",
   "execution_count": 21,
   "metadata": {},
   "outputs": [
    {
     "name": "stdout",
     "output_type": "stream",
     "text": [
      "77 - YT2107421272074093: 0==>1\n",
      "\t  Shipment information received . ZHENGZHOU  Arrived at Sort Facility ZHENGZHOU . SHENZHEN  Arrived at Sort Facility SHENZHEN . ZHENGZHOU  Departed from Facility ZHENGZHOU . ZHENGZHOU  Departed Facility in ZHENGZHOU . \n",
      "122 - YT2107421272142108: 0==>1\n",
      "\t  Shipment information received . ZHENGZHOU  Arrived at Sort Facility ZHENGZHOU . SHENZHEN  Arrived at Sort Facility SHENZHEN . HENA,ZHENGZHOU  The package has been collected by yunexpress . ZHENGZHOU  Departed from Facility ZHENGZHOU . ZHENGZHOU  Departed Facility in ZHENGZHOU . SHENZHEN  Arrived at Sort Facility SHENZHEN . \n",
      "654 - YT2103221272032772: 0==>1\n",
      "\t  shipment information received . ZHENGZHOU  departed facility in zhengzhou . ZHENGZHOU  departed from facility zhengzhou . SHENZHEN  arrived at sort facility shenzhen . ZHENGZHOU  arrived at sort facility zhengzhou . \n",
      "1053 - YT2101121272024315: 0==>1\n",
      "\tWhittier,CA  depart usps facility . Rancho Dominguez,CA 90605  hub scanned . JINJIANG  Departed Facility In processing center . Whittier,CA  arrival at unit . Whittier,CA 90605  arrived ship ptnr site usps awaits item . JINJIANG  Shipment has been processed in operational center . Whittier,CA  depart usps facility . WHITTIER,CA 90605  Delivered at Sort Facility . LOS ANGELES - UNITED STATES OF AMERICA  Arrived at AIRPORT of Destination,Custom clearance in processing. . JINJIANG  Arrived at Sort Facility JINJIANG . Whittier,CA  arrival at unit . Whittier,CA  depart usps facility . Rancho Dominguez,CA 90605  Carrier Accepted: at Sort Facility . Whittier,CA  depart usps facility . Whittier,CA  arrive usps facility . Whittier,CA  processed through usps facility . Whittier,CA  arrive usps facility . CHINA  Departure from airport to, destination country . Whittier,CA  processed through usps facility . Whittier,CA  arrive usps facility . Whittier,CA  depart usps facility . Whittier,CA  depart usps facility . Whittier,CA  depart usps facility . Whittier,CA 90605  depart ship ptnr site usps awaits item . Whittier,CA  processed through usps facility . \n",
      "1058 - YT2101521272031813: 0==>1\n",
      "\tZHENGZHOU  Arrived at Sort Facility ZHENGZHOU . ZHENGZHOU  Shipment has been processed in operational center . SHENZHEN  Arrived at Sort Facility Center . ZHENGZHOU  Departed from Facility Center . \n",
      "1305 - YT2101621236003569: 0==>1\n",
      "\tSHENZHEN  Arrived at Sort Facility SHENZHEN . SHENZHEN  Shipment has been processed in operational center . SHENZHEN  Departed Facility In processing center .   Arrived at AIRPORT of Destination，clearance in process .   Departed from AIRPORT of Origin . \n",
      "1375 - YT2036421272131660: 0==>1\n",
      "\tRALEIGH,NC,27615  Arrived Shipping Partner Facility, USPS Awaiting Item . Yorktown, VA, US  DEPART USPS SORT FACILITY .   Custom clearance completed . Avenel, NJ, US  PACKAGE RECEIVED AT DHL ECOMMERCE DISTRIBUTION CENTER . Yorktown, VA, US  DEPARTED TERMINAL LOCATION . AVENEL,NJ,07001  Departed Shipping Partner Facility, USPS Awaiting Item . YORKTOWN,VA,23692  Arrived at USPS Facility . SHENZHEN  Shipment has been processed in operational center . NORFOLK VA DISTRIBUTION CENTER  Arrived at USPS Regional Destination Facility . Seaford, VA, US  Arrived USPS Sort Facility . YORKTOWN,VA,23692  Arrived at USPS Facility . Yorktown, VA, US  Arrived USPS Sort Facility . NORFOLK VA DISTRIBUTION CENTER  Accepted at USPS Regional Destination Facility .   Arrived at AIRPORT of Destination，clearance in process . Norfolk, VA, US  DEPARTED TERMINAL LOCATION . Norfolk, VA, US  Arrived USPS Sort Facility . YORKTOWN,VA,23692  Departed USPS Facility . Avenel, NJ, US  Processed . Raleigh, NC, US  TENDERED TO DELIVERY SERVICE PROVIDER . SHENZHEN  Departed Facility In processing center . Norfolk, VA, US  PROCESSED THROUGH SORT FACILITY . NORFOLK VA DISTRIBUTION CENTER  Departed USPS Regional Facility . Yorktown, VA, US  Arrived USPS Sort Facility . Raleigh, NC, US  ARRIVAL DESTINATION DHL ECOMMERCE FACILITY . SHENZHEN  Arrived at Sort Facility SHENZHEN .   delivery to local courier . Yorktown, VA, US  Arrived USPS Sort Facility .   Electronic Notification Received: Your order has been processed and tracking will be updated soon . SEAFORD,VA,23696  Arrived at USPS Facility . Yorktown, VA, US  DEPART USPS SORT FACILITY . Seaford, VA, US  ARRIVAL AT POST OFFICE . Yorktown, VA, US  SHIPMENT WAS PROCESSED AT DESTINATION SORTING HUB . Norfolk, VA, US  DEPART USPS SORT FACILITY .   Arrived at Sort Facility .   EN ROUTE TO DHL ECOMMERCE . Norfolk, VA, US  DEPART USPS SORT FACILITY . SEAFORD,VA,23696  Arrived at Post Office .   Departed from AIRPORT of Origin . Avenel, NJ, US  DEPARTURE ORIGIN DHL ECOMMERCE FACILITY . \n",
      "1847 - YT2031421272030401: 0==>1\n",
      "\tERLANGER,KY  Forwarded .   Arrived at AIRPORT of Destination，clearance in process . ERLANGER,KY  Return to Sender Processed . ZHENGZHOU  Arrived at Sort Facility ZHENGZHOU . CINCINNATI OH NETWORK DISTRIBUTION CENTER  Arrived at USPS Regional Destination Facility . GLENDALE HEIGHTS,IL  Departed Shipping Partner Facility, USPS Awaiting Item .   Shipment information received . ERLANGER,KY  Arrived at Post Office .   Departed from AIRPORT of Origin . ZHENGZHOU  Departed from Facility Center . GLENDALE HEIGHTS,IL  Arrived Shipping Partner Facility, USPS Awaiting Item . CHENGDU  Arrived at Sort Facility Center . CHENGDU  Shipment has been processed in operational center . CINCINNATI OH DISTRIBUTION CENTER  Arrived at USPS Regional Facility . DES MOINES IA NETWORK DISTRIBUTION CENTER  USPS in possession of item .   Custom clearance completed . CHENGDU  Departed Facility In processing center . NORTH LAS VEGAS,NV  Departed Shipping Partner Facility, USPS Awaiting Item . ERLANGER,KY  Arrived at USPS Facility . CINCINNATI OH NETWORK DISTRIBUTION CENTER  Arrived at USPS Regional Facility . CINCINNATI OH NETWORK DISTRIBUTION CENTER  Departed USPS Regional Facility . CINCINNATI OH NETWORK DISTRIBUTION CENTER  Departed USPS Regional Facility .   Arrived at Sort Facility . CINCINNATI OH NETWORK DISTRIBUTION CENTER  Accepted at USPS Regional Destination Facility . NORTH LAS VEGAS,NV  Arrived Shipping Partner Facility, USPS Awaiting Item . ERLANGER,KY  Forwarded . CINCINNATI OH DISTRIBUTION CENTER  Departed USPS Regional Facility . CINCINNATI OH NETWORK DISTRIBUTION CENTER  Departed USPS Regional Destination Facility . ERLANGER,KY  Out for Delivery, Expected Delivery by 9:00pm .   delivery to local courier . ERLANGER,KY  Delivery Attempted - No Access to Delivery Location . \n",
      "1856 - YT2031421272030401: 0==>1\n",
      "\tCHENGDU  Arrived at Sort Facility Center . NORTH LAS VEGAS,NV  Arrived Shipping Partner Facility, USPS Awaiting Item . GLENDALE HEIGHTS,IL  Departed Shipping Partner Facility, USPS Awaiting Item . ERLANGER,KY  Forwarded . CINCINNATI OH NETWORK DISTRIBUTION CENTER  Arrived at USPS Regional Facility .   Custom clearance completed . LOS ANGELES CA NETWORK DISTRIBUTION CENTER  Departed USPS Regional Facility . CHENGDU  Departed Facility In processing center .   Arrived at Sort Facility . ERLANGER,KY  Forwarded . CHENGDU  Shipment has been processed in operational center . CINCINNATI OH DISTRIBUTION CENTER  Departed USPS Regional Facility .   In Transit, Arriving Late . ERLANGER,KY  Arrived at Post Office . CINCINNATI OH NETWORK DISTRIBUTION CENTER  Departed USPS Regional Facility . ERLANGER,KY  Return to Sender Processed .   Arrived at AIRPORT of Destination，clearance in process . ZHENGZHOU  Arrived at Sort Facility ZHENGZHOU .   In Transit, Arriving Late .   In Transit, Arriving Late . NORTH LAS VEGAS,NV  Departed Shipping Partner Facility, USPS Awaiting Item . CINCINNATI OH NETWORK DISTRIBUTION CENTER  Departed USPS Regional Facility .   Shipment information received . CINCINNATI OH NETWORK DISTRIBUTION CENTER  Departed USPS Regional Destination Facility .   In Transit, Arriving Late . LOS ANGELES CA DISTRIBUTION CENTER  Departed USPS Regional Facility . ZHENGZHOU  Departed from Facility Center . LOS ANGELES CA NETWORK DISTRIBUTION CENTER  Departed USPS Regional Facility .   delivery to local courier . DES MOINES IA NETWORK DISTRIBUTION CENTER  USPS in possession of item . LOS ANGELES CA NETWORK DISTRIBUTION CENTER  Arrived at USPS Regional Facility . LOS ANGELES CA DISTRIBUTION CENTER  Arrived at USPS Regional Facility . CINCINNATI OH DISTRIBUTION CENTER  Arrived at USPS Regional Facility . CINCINNATI OH NETWORK DISTRIBUTION CENTER  Arrived at USPS Regional Destination Facility . ERLANGER,KY  Delivery Attempted - No Access to Delivery Location . GLENDALE HEIGHTS,IL  Arrived Shipping Partner Facility, USPS Awaiting Item .   Departed from AIRPORT of Origin . ERLANGER,KY  Out for Delivery, Expected Delivery by 9:00pm . ERLANGER,KY  Arrived at USPS Facility . CINCINNATI OH NETWORK DISTRIBUTION CENTER  Accepted at USPS Regional Destination Facility . \n",
      "1953 - YT2027321272061815: 0==>1\n",
      "\tLOS ANGELES,CA  departed shipping partner facility, usps awaiting item . LOS ANGELES,CA  shipping label created, usps awaiting item .   Shipment information received . SHANGHAI  Arrived at Sort Facility SHANGHAI . SHANGHAI  Shipment has been processed in operational center . \n",
      "\n",
      "Sum of miss prediction: 10\n"
     ]
    }
   ],
   "source": [
    "count = 0\n",
    "for i in range(len(y_test)):\n",
    "    if y_test[i] != y_pred[i]:\n",
    "        print(\"{} - {}: {}==>{}\".format(i, data.iloc[i][\"tracking_number\"], y_pred[i], y_test[i]))\n",
    "        print(\"\\t{}\".format(X_test[i]))\n",
    "        count += 1\n",
    "\n",
    "print()\n",
    "print(\"Sum of miss prediction: {}\".format(count))"
   ]
  },
  {
   "cell_type": "code",
   "execution_count": null,
   "metadata": {},
   "outputs": [],
   "source": []
  },
  {
   "cell_type": "code",
   "execution_count": null,
   "metadata": {},
   "outputs": [],
   "source": []
  },
  {
   "cell_type": "code",
   "execution_count": null,
   "metadata": {},
   "outputs": [],
   "source": []
  }
 ],
 "metadata": {
  "kernelspec": {
   "display_name": "Python 3",
   "language": "python",
   "name": "python3"
  },
  "language_info": {
   "codemirror_mode": {
    "name": "ipython",
    "version": 3
   },
   "file_extension": ".py",
   "mimetype": "text/x-python",
   "name": "python",
   "nbconvert_exporter": "python",
   "pygments_lexer": "ipython3",
   "version": "3.7.3"
  }
 },
 "nbformat": 4,
 "nbformat_minor": 4
}
